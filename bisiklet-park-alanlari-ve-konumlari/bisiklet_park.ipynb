{
 "cells": [
  {
   "cell_type": "code",
   "execution_count": 41,
   "metadata": {},
   "outputs": [],
   "source": [
    "import pandas as pd\n",
    "import numpy as np"
   ]
  },
  {
   "cell_type": "code",
   "execution_count": 42,
   "metadata": {},
   "outputs": [],
   "source": [
    "data = pd.read_csv(\"bisiklet-temizlenmemis-veri.csv\")"
   ]
  },
  {
   "cell_type": "code",
   "execution_count": 43,
   "metadata": {},
   "outputs": [
    {
     "name": "stdout",
     "output_type": "stream",
     "text": [
      "<class 'pandas.core.frame.DataFrame'>\n",
      "RangeIndex: 105 entries, 0 to 104\n",
      "Data columns (total 3 columns):\n",
      " #   Column  Non-Null Count  Dtype \n",
      "---  ------  --------------  ----- \n",
      " 0   _id     105 non-null    int64 \n",
      " 1   name    105 non-null    object\n",
      " 2   wkt     105 non-null    object\n",
      "dtypes: int64(1), object(2)\n",
      "memory usage: 2.6+ KB\n"
     ]
    }
   ],
   "source": [
    "data.info()"
   ]
  },
  {
   "cell_type": "code",
   "execution_count": 44,
   "metadata": {},
   "outputs": [
    {
     "data": {
      "text/html": [
       "<div>\n",
       "<style scoped>\n",
       "    .dataframe tbody tr th:only-of-type {\n",
       "        vertical-align: middle;\n",
       "    }\n",
       "\n",
       "    .dataframe tbody tr th {\n",
       "        vertical-align: top;\n",
       "    }\n",
       "\n",
       "    .dataframe thead th {\n",
       "        text-align: right;\n",
       "    }\n",
       "</style>\n",
       "<table border=\"1\" class=\"dataframe\">\n",
       "  <thead>\n",
       "    <tr style=\"text-align: right;\">\n",
       "      <th></th>\n",
       "      <th>_id</th>\n",
       "      <th>name</th>\n",
       "      <th>wkt</th>\n",
       "    </tr>\n",
       "  </thead>\n",
       "  <tbody>\n",
       "    <tr>\n",
       "      <th>0</th>\n",
       "      <td>1</td>\n",
       "      <td>KAMPÜS 02A BOSNA HERSEK</td>\n",
       "      <td>POINT Z (32.51877984190408 38.00940102091862 0)</td>\n",
       "    </tr>\n",
       "    <tr>\n",
       "      <th>1</th>\n",
       "      <td>2</td>\n",
       "      <td>KAMPÜS 02B BOSNA HERSEK</td>\n",
       "      <td>POINT Z (32.51938029678481 38.00947915130062 0)</td>\n",
       "    </tr>\n",
       "    <tr>\n",
       "      <th>2</th>\n",
       "      <td>3</td>\n",
       "      <td>KAMPÜS 03 BUZLUKBAŞI</td>\n",
       "      <td>POINT Z (32.51973693158448 38.00250371121295 0)</td>\n",
       "    </tr>\n",
       "    <tr>\n",
       "      <th>3</th>\n",
       "      <td>4</td>\n",
       "      <td>KAMPÜS 04 FIRAT CADDESİ</td>\n",
       "      <td>POINT Z (32.5184303520723 37.99464895249642 0)</td>\n",
       "    </tr>\n",
       "    <tr>\n",
       "      <th>4</th>\n",
       "      <td>5</td>\n",
       "      <td>KAMPÜS 05 PİRİ REİS</td>\n",
       "      <td>POINT Z (32.51770962074744 37.98915648742838 0)</td>\n",
       "    </tr>\n",
       "    <tr>\n",
       "      <th>5</th>\n",
       "      <td>6</td>\n",
       "      <td>KAMPÜS 06 SANCAK</td>\n",
       "      <td>POINT Z (32.51680031377312 37.98228949401522 0)</td>\n",
       "    </tr>\n",
       "    <tr>\n",
       "      <th>6</th>\n",
       "      <td>7</td>\n",
       "      <td>KAMPÜS 07 JAPON PARKI</td>\n",
       "      <td>POINT Z (32.51625065863524 37.9767110246055 0)</td>\n",
       "    </tr>\n",
       "    <tr>\n",
       "      <th>7</th>\n",
       "      <td>8</td>\n",
       "      <td>KAMPÜS 08 YAZIR</td>\n",
       "      <td>POINT Z (32.51495409426025 37.97153992955331 0)</td>\n",
       "    </tr>\n",
       "    <tr>\n",
       "      <th>8</th>\n",
       "      <td>9</td>\n",
       "      <td>KAMPÜS 09 MTA</td>\n",
       "      <td>POINT Z (32.51455927529192 37.9651960210252 0)</td>\n",
       "    </tr>\n",
       "    <tr>\n",
       "      <th>9</th>\n",
       "      <td>10</td>\n",
       "      <td>KAMPÜS 10 ELMALILI HAMDİ</td>\n",
       "      <td>POINT Z (32.51409454493773 37.95888878476291 0)</td>\n",
       "    </tr>\n",
       "    <tr>\n",
       "      <th>10</th>\n",
       "      <td>11</td>\n",
       "      <td>KAMPÜS 11 MEDAŞ</td>\n",
       "      <td>POINT Z (32.51321851469353 37.95396196967933 0)</td>\n",
       "    </tr>\n",
       "    <tr>\n",
       "      <th>11</th>\n",
       "      <td>12</td>\n",
       "      <td>KAMPÜS 12 OTOGAR</td>\n",
       "      <td>POINT Z (32.51224566479171 37.94785912690254 0)</td>\n",
       "    </tr>\n",
       "    <tr>\n",
       "      <th>12</th>\n",
       "      <td>13</td>\n",
       "      <td>KAMPÜS 13 ERENKAYA</td>\n",
       "      <td>POINT Z (32.51178639443508 37.94391666099619 0)</td>\n",
       "    </tr>\n",
       "    <tr>\n",
       "      <th>13</th>\n",
       "      <td>14</td>\n",
       "      <td>KAMPÜS 15 EYÜP SULTAN</td>\n",
       "      <td>POINT Z (32.51044822134453 37.93643610947743 0)</td>\n",
       "    </tr>\n",
       "    <tr>\n",
       "      <th>14</th>\n",
       "      <td>15</td>\n",
       "      <td>KAMPÜS 16 BİRİNCİ ORGHANİZE SAN.</td>\n",
       "      <td>POINT Z (32.50869294673355 37.92869983411821 0)</td>\n",
       "    </tr>\n",
       "  </tbody>\n",
       "</table>\n",
       "</div>"
      ],
      "text/plain": [
       "    _id                              name  \\\n",
       "0     1           KAMPÜS 02A BOSNA HERSEK   \n",
       "1     2           KAMPÜS 02B BOSNA HERSEK   \n",
       "2     3              KAMPÜS 03 BUZLUKBAŞI   \n",
       "3     4           KAMPÜS 04 FIRAT CADDESİ   \n",
       "4     5               KAMPÜS 05 PİRİ REİS   \n",
       "5     6                  KAMPÜS 06 SANCAK   \n",
       "6     7             KAMPÜS 07 JAPON PARKI   \n",
       "7     8                   KAMPÜS 08 YAZIR   \n",
       "8     9                     KAMPÜS 09 MTA   \n",
       "9    10          KAMPÜS 10 ELMALILI HAMDİ   \n",
       "10   11                   KAMPÜS 11 MEDAŞ   \n",
       "11   12                  KAMPÜS 12 OTOGAR   \n",
       "12   13                KAMPÜS 13 ERENKAYA   \n",
       "13   14             KAMPÜS 15 EYÜP SULTAN   \n",
       "14   15  KAMPÜS 16 BİRİNCİ ORGHANİZE SAN.   \n",
       "\n",
       "                                                wkt  \n",
       "0   POINT Z (32.51877984190408 38.00940102091862 0)  \n",
       "1   POINT Z (32.51938029678481 38.00947915130062 0)  \n",
       "2   POINT Z (32.51973693158448 38.00250371121295 0)  \n",
       "3    POINT Z (32.5184303520723 37.99464895249642 0)  \n",
       "4   POINT Z (32.51770962074744 37.98915648742838 0)  \n",
       "5   POINT Z (32.51680031377312 37.98228949401522 0)  \n",
       "6    POINT Z (32.51625065863524 37.9767110246055 0)  \n",
       "7   POINT Z (32.51495409426025 37.97153992955331 0)  \n",
       "8    POINT Z (32.51455927529192 37.9651960210252 0)  \n",
       "9   POINT Z (32.51409454493773 37.95888878476291 0)  \n",
       "10  POINT Z (32.51321851469353 37.95396196967933 0)  \n",
       "11  POINT Z (32.51224566479171 37.94785912690254 0)  \n",
       "12  POINT Z (32.51178639443508 37.94391666099619 0)  \n",
       "13  POINT Z (32.51044822134453 37.93643610947743 0)  \n",
       "14  POINT Z (32.50869294673355 37.92869983411821 0)  "
      ]
     },
     "execution_count": 44,
     "metadata": {},
     "output_type": "execute_result"
    }
   ],
   "source": [
    "data.head(15)"
   ]
  },
  {
   "cell_type": "code",
   "execution_count": 45,
   "metadata": {},
   "outputs": [],
   "source": [
    "data = data.drop(columns=\"_id\", axis=0)"
   ]
  },
  {
   "cell_type": "code",
   "execution_count": 46,
   "metadata": {},
   "outputs": [],
   "source": [
    "data.rename(columns={\"name\" : \"bisiklet_park_konumu_adi\"}, inplace=True)\n",
    "data.rename(columns={\"wkt\" : \"bisiklet_park_konumu\"}, inplace=True)\n"
   ]
  },
  {
   "cell_type": "code",
   "execution_count": 47,
   "metadata": {},
   "outputs": [
    {
     "data": {
      "text/html": [
       "<div>\n",
       "<style scoped>\n",
       "    .dataframe tbody tr th:only-of-type {\n",
       "        vertical-align: middle;\n",
       "    }\n",
       "\n",
       "    .dataframe tbody tr th {\n",
       "        vertical-align: top;\n",
       "    }\n",
       "\n",
       "    .dataframe thead th {\n",
       "        text-align: right;\n",
       "    }\n",
       "</style>\n",
       "<table border=\"1\" class=\"dataframe\">\n",
       "  <thead>\n",
       "    <tr style=\"text-align: right;\">\n",
       "      <th></th>\n",
       "      <th>bisiklet_park_konumu_adi</th>\n",
       "      <th>bisiklet_park_konumu</th>\n",
       "    </tr>\n",
       "  </thead>\n",
       "  <tbody>\n",
       "    <tr>\n",
       "      <th>0</th>\n",
       "      <td>KAMPÜS 02A BOSNA HERSEK</td>\n",
       "      <td>POINT Z (32.51877984190408 38.00940102091862 0)</td>\n",
       "    </tr>\n",
       "    <tr>\n",
       "      <th>1</th>\n",
       "      <td>KAMPÜS 02B BOSNA HERSEK</td>\n",
       "      <td>POINT Z (32.51938029678481 38.00947915130062 0)</td>\n",
       "    </tr>\n",
       "    <tr>\n",
       "      <th>2</th>\n",
       "      <td>KAMPÜS 03 BUZLUKBAŞI</td>\n",
       "      <td>POINT Z (32.51973693158448 38.00250371121295 0)</td>\n",
       "    </tr>\n",
       "    <tr>\n",
       "      <th>3</th>\n",
       "      <td>KAMPÜS 04 FIRAT CADDESİ</td>\n",
       "      <td>POINT Z (32.5184303520723 37.99464895249642 0)</td>\n",
       "    </tr>\n",
       "    <tr>\n",
       "      <th>4</th>\n",
       "      <td>KAMPÜS 05 PİRİ REİS</td>\n",
       "      <td>POINT Z (32.51770962074744 37.98915648742838 0)</td>\n",
       "    </tr>\n",
       "  </tbody>\n",
       "</table>\n",
       "</div>"
      ],
      "text/plain": [
       "  bisiklet_park_konumu_adi                             bisiklet_park_konumu\n",
       "0  KAMPÜS 02A BOSNA HERSEK  POINT Z (32.51877984190408 38.00940102091862 0)\n",
       "1  KAMPÜS 02B BOSNA HERSEK  POINT Z (32.51938029678481 38.00947915130062 0)\n",
       "2     KAMPÜS 03 BUZLUKBAŞI  POINT Z (32.51973693158448 38.00250371121295 0)\n",
       "3  KAMPÜS 04 FIRAT CADDESİ   POINT Z (32.5184303520723 37.99464895249642 0)\n",
       "4      KAMPÜS 05 PİRİ REİS  POINT Z (32.51770962074744 37.98915648742838 0)"
      ]
     },
     "execution_count": 47,
     "metadata": {},
     "output_type": "execute_result"
    }
   ],
   "source": [
    "data.head()"
   ]
  },
  {
   "cell_type": "code",
   "execution_count": 48,
   "metadata": {},
   "outputs": [
    {
     "data": {
      "text/plain": [
       "'POINT Z (32.51877984190408 38.00940102091862 0)'"
      ]
     },
     "execution_count": 48,
     "metadata": {},
     "output_type": "execute_result"
    }
   ],
   "source": [
    "data[\"bisiklet_park_konumu\"][0]"
   ]
  },
  {
   "cell_type": "code",
   "execution_count": 49,
   "metadata": {},
   "outputs": [
    {
     "name": "stderr",
     "output_type": "stream",
     "text": [
      "/var/folders/jh/d35s6brj6td3270jfy770tjc0000gn/T/ipykernel_38338/4216687643.py:1: FutureWarning: The default value of regex will change from True to False in a future version.\n",
      "  data[\"bisiklet_park_konumu\"] = data[\"bisiklet_park_konumu\"].astype(str).str.replace(r\"POINT Z \\(\", \"\")\n"
     ]
    }
   ],
   "source": [
    "data[\"bisiklet_park_konumu\"] = data[\"bisiklet_park_konumu\"].astype(str).str.replace(r\"POINT Z \\(\", \"\")"
   ]
  },
  {
   "cell_type": "code",
   "execution_count": 50,
   "metadata": {},
   "outputs": [
    {
     "name": "stderr",
     "output_type": "stream",
     "text": [
      "/var/folders/jh/d35s6brj6td3270jfy770tjc0000gn/T/ipykernel_38338/379239867.py:1: FutureWarning: The default value of regex will change from True to False in a future version.\n",
      "  data[\"bisiklet_park_konumu\"] = data[\"bisiklet_park_konumu\"].astype(str).str.replace(r\" 0\\)\", \"\")\n"
     ]
    }
   ],
   "source": [
    "data[\"bisiklet_park_konumu\"] = data[\"bisiklet_park_konumu\"].astype(str).str.replace(r\" 0\\)\", \"\")"
   ]
  },
  {
   "cell_type": "code",
   "execution_count": 51,
   "metadata": {},
   "outputs": [],
   "source": [
    "data[\"bisiklet_park_konumu\"] = data[\"bisiklet_park_konumu\"].astype(str).str.replace(\" \", \",\")"
   ]
  },
  {
   "cell_type": "code",
   "execution_count": 52,
   "metadata": {},
   "outputs": [
    {
     "data": {
      "text/html": [
       "<div>\n",
       "<style scoped>\n",
       "    .dataframe tbody tr th:only-of-type {\n",
       "        vertical-align: middle;\n",
       "    }\n",
       "\n",
       "    .dataframe tbody tr th {\n",
       "        vertical-align: top;\n",
       "    }\n",
       "\n",
       "    .dataframe thead th {\n",
       "        text-align: right;\n",
       "    }\n",
       "</style>\n",
       "<table border=\"1\" class=\"dataframe\">\n",
       "  <thead>\n",
       "    <tr style=\"text-align: right;\">\n",
       "      <th></th>\n",
       "      <th>bisiklet_park_konumu_adi</th>\n",
       "      <th>bisiklet_park_konumu</th>\n",
       "    </tr>\n",
       "  </thead>\n",
       "  <tbody>\n",
       "    <tr>\n",
       "      <th>0</th>\n",
       "      <td>KAMPÜS 02A BOSNA HERSEK</td>\n",
       "      <td>32.51877984190408,38.00940102091862</td>\n",
       "    </tr>\n",
       "    <tr>\n",
       "      <th>1</th>\n",
       "      <td>KAMPÜS 02B BOSNA HERSEK</td>\n",
       "      <td>32.51938029678481,38.00947915130062</td>\n",
       "    </tr>\n",
       "    <tr>\n",
       "      <th>2</th>\n",
       "      <td>KAMPÜS 03 BUZLUKBAŞI</td>\n",
       "      <td>32.51973693158448,38.00250371121295</td>\n",
       "    </tr>\n",
       "    <tr>\n",
       "      <th>3</th>\n",
       "      <td>KAMPÜS 04 FIRAT CADDESİ</td>\n",
       "      <td>32.5184303520723,37.99464895249642</td>\n",
       "    </tr>\n",
       "    <tr>\n",
       "      <th>4</th>\n",
       "      <td>KAMPÜS 05 PİRİ REİS</td>\n",
       "      <td>32.51770962074744,37.98915648742838</td>\n",
       "    </tr>\n",
       "    <tr>\n",
       "      <th>5</th>\n",
       "      <td>KAMPÜS 06 SANCAK</td>\n",
       "      <td>32.51680031377312,37.98228949401522</td>\n",
       "    </tr>\n",
       "    <tr>\n",
       "      <th>6</th>\n",
       "      <td>KAMPÜS 07 JAPON PARKI</td>\n",
       "      <td>32.51625065863524,37.9767110246055</td>\n",
       "    </tr>\n",
       "    <tr>\n",
       "      <th>7</th>\n",
       "      <td>KAMPÜS 08 YAZIR</td>\n",
       "      <td>32.51495409426025,37.97153992955331</td>\n",
       "    </tr>\n",
       "    <tr>\n",
       "      <th>8</th>\n",
       "      <td>KAMPÜS 09 MTA</td>\n",
       "      <td>32.51455927529192,37.9651960210252</td>\n",
       "    </tr>\n",
       "    <tr>\n",
       "      <th>9</th>\n",
       "      <td>KAMPÜS 10 ELMALILI HAMDİ</td>\n",
       "      <td>32.51409454493773,37.95888878476291</td>\n",
       "    </tr>\n",
       "    <tr>\n",
       "      <th>10</th>\n",
       "      <td>KAMPÜS 11 MEDAŞ</td>\n",
       "      <td>32.51321851469353,37.95396196967933</td>\n",
       "    </tr>\n",
       "    <tr>\n",
       "      <th>11</th>\n",
       "      <td>KAMPÜS 12 OTOGAR</td>\n",
       "      <td>32.51224566479171,37.94785912690254</td>\n",
       "    </tr>\n",
       "    <tr>\n",
       "      <th>12</th>\n",
       "      <td>KAMPÜS 13 ERENKAYA</td>\n",
       "      <td>32.51178639443508,37.94391666099619</td>\n",
       "    </tr>\n",
       "    <tr>\n",
       "      <th>13</th>\n",
       "      <td>KAMPÜS 15 EYÜP SULTAN</td>\n",
       "      <td>32.51044822134453,37.93643610947743</td>\n",
       "    </tr>\n",
       "    <tr>\n",
       "      <th>14</th>\n",
       "      <td>KAMPÜS 16 BİRİNCİ ORGHANİZE SAN.</td>\n",
       "      <td>32.50869294673355,37.92869983411821</td>\n",
       "    </tr>\n",
       "    <tr>\n",
       "      <th>15</th>\n",
       "      <td>KAMPÜS 17 TEKNİK LİSE</td>\n",
       "      <td>32.50783678092908,37.92458100605364</td>\n",
       "    </tr>\n",
       "    <tr>\n",
       "      <th>16</th>\n",
       "      <td>KAMPÜS 18 SAKARYA</td>\n",
       "      <td>32.50560875621404,37.91668380089293</td>\n",
       "    </tr>\n",
       "    <tr>\n",
       "      <th>17</th>\n",
       "      <td>KAMPÜS 19 ŞEHİTLER CAMİ</td>\n",
       "      <td>32.50081552946606,37.91191524882602</td>\n",
       "    </tr>\n",
       "    <tr>\n",
       "      <th>18</th>\n",
       "      <td>KAMPÜS 20 AYDINLIK EVLER</td>\n",
       "      <td>32.49601157967594,37.90731484275345</td>\n",
       "    </tr>\n",
       "    <tr>\n",
       "      <th>19</th>\n",
       "      <td>KAMPÜS 21 ESKİ SANAYİ</td>\n",
       "      <td>32.4893038220364,37.8996242951029</td>\n",
       "    </tr>\n",
       "    <tr>\n",
       "      <th>20</th>\n",
       "      <td>KAMPÜS 24 NALÇAÇI</td>\n",
       "      <td>32.48986411541268,37.88188775730156</td>\n",
       "    </tr>\n",
       "    <tr>\n",
       "      <th>21</th>\n",
       "      <td>KAMPÜS 25 BELEDİYE</td>\n",
       "      <td>32.48753328308745,37.87660853547344</td>\n",
       "    </tr>\n",
       "    <tr>\n",
       "      <th>22</th>\n",
       "      <td>KAMPÜS 26 KÜLTÜRPARK</td>\n",
       "      <td>32.49091096149895,37.87453853971522</td>\n",
       "    </tr>\n",
       "    <tr>\n",
       "      <th>23</th>\n",
       "      <td>KAMPÜS 27 ZAFER</td>\n",
       "      <td>32.49011590017552,37.87175901366815</td>\n",
       "    </tr>\n",
       "    <tr>\n",
       "      <th>24</th>\n",
       "      <td>KAMPÜS 28 ALAADDİN RAMPALI ÇARŞI</td>\n",
       "      <td>32.49438642521665,37.8719347499097</td>\n",
       "    </tr>\n",
       "    <tr>\n",
       "      <th>25</th>\n",
       "      <td>ADLİYE 02 ŞERAFETTİN CAMİİ</td>\n",
       "      <td>32.49847101111411,37.87206264735548</td>\n",
       "    </tr>\n",
       "    <tr>\n",
       "      <th>26</th>\n",
       "      <td>ADLİYE 03 MEVLANA</td>\n",
       "      <td>32.5071765472571,37.87050604867116</td>\n",
       "    </tr>\n",
       "    <tr>\n",
       "      <th>27</th>\n",
       "      <td>ADLİYE 05 FETİH CAD.</td>\n",
       "      <td>32.52515243435651,37.86981709960805</td>\n",
       "    </tr>\n",
       "    <tr>\n",
       "      <th>28</th>\n",
       "      <td>ADLİYE 06 SPOR VE KONGRE MERKEZİ</td>\n",
       "      <td>32.53362286520213,37.86914561898942</td>\n",
       "    </tr>\n",
       "    <tr>\n",
       "      <th>29</th>\n",
       "      <td>ADLİYE 07 SAMAN PAZARI YANI</td>\n",
       "      <td>32.54346180378163,37.86860965396812</td>\n",
       "    </tr>\n",
       "  </tbody>\n",
       "</table>\n",
       "</div>"
      ],
      "text/plain": [
       "            bisiklet_park_konumu_adi                 bisiklet_park_konumu\n",
       "0            KAMPÜS 02A BOSNA HERSEK  32.51877984190408,38.00940102091862\n",
       "1            KAMPÜS 02B BOSNA HERSEK  32.51938029678481,38.00947915130062\n",
       "2               KAMPÜS 03 BUZLUKBAŞI  32.51973693158448,38.00250371121295\n",
       "3            KAMPÜS 04 FIRAT CADDESİ   32.5184303520723,37.99464895249642\n",
       "4                KAMPÜS 05 PİRİ REİS  32.51770962074744,37.98915648742838\n",
       "5                   KAMPÜS 06 SANCAK  32.51680031377312,37.98228949401522\n",
       "6              KAMPÜS 07 JAPON PARKI   32.51625065863524,37.9767110246055\n",
       "7                    KAMPÜS 08 YAZIR  32.51495409426025,37.97153992955331\n",
       "8                      KAMPÜS 09 MTA   32.51455927529192,37.9651960210252\n",
       "9           KAMPÜS 10 ELMALILI HAMDİ  32.51409454493773,37.95888878476291\n",
       "10                   KAMPÜS 11 MEDAŞ  32.51321851469353,37.95396196967933\n",
       "11                  KAMPÜS 12 OTOGAR  32.51224566479171,37.94785912690254\n",
       "12                KAMPÜS 13 ERENKAYA  32.51178639443508,37.94391666099619\n",
       "13             KAMPÜS 15 EYÜP SULTAN  32.51044822134453,37.93643610947743\n",
       "14  KAMPÜS 16 BİRİNCİ ORGHANİZE SAN.  32.50869294673355,37.92869983411821\n",
       "15             KAMPÜS 17 TEKNİK LİSE  32.50783678092908,37.92458100605364\n",
       "16                 KAMPÜS 18 SAKARYA  32.50560875621404,37.91668380089293\n",
       "17           KAMPÜS 19 ŞEHİTLER CAMİ  32.50081552946606,37.91191524882602\n",
       "18          KAMPÜS 20 AYDINLIK EVLER  32.49601157967594,37.90731484275345\n",
       "19             KAMPÜS 21 ESKİ SANAYİ    32.4893038220364,37.8996242951029\n",
       "20                 KAMPÜS 24 NALÇAÇI  32.48986411541268,37.88188775730156\n",
       "21                KAMPÜS 25 BELEDİYE  32.48753328308745,37.87660853547344\n",
       "22              KAMPÜS 26 KÜLTÜRPARK  32.49091096149895,37.87453853971522\n",
       "23                   KAMPÜS 27 ZAFER  32.49011590017552,37.87175901366815\n",
       "24  KAMPÜS 28 ALAADDİN RAMPALI ÇARŞI   32.49438642521665,37.8719347499097\n",
       "25        ADLİYE 02 ŞERAFETTİN CAMİİ  32.49847101111411,37.87206264735548\n",
       "26                 ADLİYE 03 MEVLANA   32.5071765472571,37.87050604867116\n",
       "27              ADLİYE 05 FETİH CAD.  32.52515243435651,37.86981709960805\n",
       "28  ADLİYE 06 SPOR VE KONGRE MERKEZİ  32.53362286520213,37.86914561898942\n",
       "29       ADLİYE 07 SAMAN PAZARI YANI  32.54346180378163,37.86860965396812"
      ]
     },
     "execution_count": 52,
     "metadata": {},
     "output_type": "execute_result"
    }
   ],
   "source": [
    "data.head(30)"
   ]
  },
  {
   "cell_type": "code",
   "execution_count": 53,
   "metadata": {},
   "outputs": [
    {
     "data": {
      "text/plain": [
       "'32.51877984190408,38.00940102091862'"
      ]
     },
     "execution_count": 53,
     "metadata": {},
     "output_type": "execute_result"
    }
   ],
   "source": [
    "data[\"bisiklet_park_konumu\"][0]"
   ]
  },
  {
   "cell_type": "code",
   "execution_count": 54,
   "metadata": {},
   "outputs": [],
   "source": [
    "data.to_csv(\"/Users/o/Desktop/staj/kolay veriler/bisiklet/bisiklet-park-alanlari-ve-istasyonlarinin-konumlari.csv\")\n",
    "data.to_excel(\"/Users/o/Desktop/staj/kolay veriler/bisiklet/bisiklet-park-alanlari-ve-istasyonlarinin-konumlari.xlsx\")\n"
   ]
  }
 ],
 "metadata": {
  "kernelspec": {
   "display_name": "base",
   "language": "python",
   "name": "python3"
  },
  "language_info": {
   "codemirror_mode": {
    "name": "ipython",
    "version": 3
   },
   "file_extension": ".py",
   "mimetype": "text/x-python",
   "name": "python",
   "nbconvert_exporter": "python",
   "pygments_lexer": "ipython3",
   "version": "3.11.3"
  },
  "orig_nbformat": 4
 },
 "nbformat": 4,
 "nbformat_minor": 2
}
