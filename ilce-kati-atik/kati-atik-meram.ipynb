{
 "cells": [
  {
   "cell_type": "code",
   "execution_count": 10,
   "metadata": {},
   "outputs": [],
   "source": [
    "import pandas as pd\n",
    "import numpy as np"
   ]
  },
  {
   "cell_type": "code",
   "execution_count": 11,
   "metadata": {},
   "outputs": [],
   "source": [
    "data = pd.read_csv(\"meram.csv\")"
   ]
  },
  {
   "cell_type": "code",
   "execution_count": 12,
   "metadata": {},
   "outputs": [
    {
     "name": "stdout",
     "output_type": "stream",
     "text": [
      "<class 'pandas.core.frame.DataFrame'>\n",
      "RangeIndex: 1856 entries, 0 to 1855\n",
      "Data columns (total 4 columns):\n",
      " #   Column  Non-Null Count  Dtype  \n",
      "---  ------  --------------  -----  \n",
      " 0   _id     1856 non-null   int64  \n",
      " 1   tarih   1856 non-null   object \n",
      " 2   deger   1856 non-null   float64\n",
      " 3   birim   1856 non-null   object \n",
      "dtypes: float64(1), int64(1), object(2)\n",
      "memory usage: 58.1+ KB\n"
     ]
    }
   ],
   "source": [
    "data.info()"
   ]
  },
  {
   "cell_type": "code",
   "execution_count": 13,
   "metadata": {},
   "outputs": [
    {
     "data": {
      "text/html": [
       "<div>\n",
       "<style scoped>\n",
       "    .dataframe tbody tr th:only-of-type {\n",
       "        vertical-align: middle;\n",
       "    }\n",
       "\n",
       "    .dataframe tbody tr th {\n",
       "        vertical-align: top;\n",
       "    }\n",
       "\n",
       "    .dataframe thead th {\n",
       "        text-align: right;\n",
       "    }\n",
       "</style>\n",
       "<table border=\"1\" class=\"dataframe\">\n",
       "  <thead>\n",
       "    <tr style=\"text-align: right;\">\n",
       "      <th></th>\n",
       "      <th>_id</th>\n",
       "      <th>tarih</th>\n",
       "      <th>deger</th>\n",
       "      <th>birim</th>\n",
       "    </tr>\n",
       "  </thead>\n",
       "  <tbody>\n",
       "    <tr>\n",
       "      <th>0</th>\n",
       "      <td>1</td>\n",
       "      <td>2004-12-31T00:00:00</td>\n",
       "      <td>0.000</td>\n",
       "      <td>Ton</td>\n",
       "    </tr>\n",
       "    <tr>\n",
       "      <th>1</th>\n",
       "      <td>2</td>\n",
       "      <td>2005-12-31T00:00:00</td>\n",
       "      <td>55.797</td>\n",
       "      <td>Ton</td>\n",
       "    </tr>\n",
       "    <tr>\n",
       "      <th>2</th>\n",
       "      <td>3</td>\n",
       "      <td>2006-12-31T00:00:00</td>\n",
       "      <td>101.090</td>\n",
       "      <td>Ton</td>\n",
       "    </tr>\n",
       "    <tr>\n",
       "      <th>3</th>\n",
       "      <td>4</td>\n",
       "      <td>2007-12-31T00:00:00</td>\n",
       "      <td>102.615</td>\n",
       "      <td>Ton</td>\n",
       "    </tr>\n",
       "    <tr>\n",
       "      <th>4</th>\n",
       "      <td>5</td>\n",
       "      <td>2008-12-31T00:00:00</td>\n",
       "      <td>103.862</td>\n",
       "      <td>Ton</td>\n",
       "    </tr>\n",
       "    <tr>\n",
       "      <th>5</th>\n",
       "      <td>6</td>\n",
       "      <td>2009-12-31T00:00:00</td>\n",
       "      <td>108.580</td>\n",
       "      <td>Ton</td>\n",
       "    </tr>\n",
       "    <tr>\n",
       "      <th>6</th>\n",
       "      <td>7</td>\n",
       "      <td>2010-12-31T00:00:00</td>\n",
       "      <td>106.713</td>\n",
       "      <td>Ton</td>\n",
       "    </tr>\n",
       "    <tr>\n",
       "      <th>7</th>\n",
       "      <td>8</td>\n",
       "      <td>2011-12-31T00:00:00</td>\n",
       "      <td>112.666</td>\n",
       "      <td>Ton</td>\n",
       "    </tr>\n",
       "    <tr>\n",
       "      <th>8</th>\n",
       "      <td>9</td>\n",
       "      <td>2012-12-31T00:00:00</td>\n",
       "      <td>117.271</td>\n",
       "      <td>Ton</td>\n",
       "    </tr>\n",
       "    <tr>\n",
       "      <th>9</th>\n",
       "      <td>10</td>\n",
       "      <td>2013-01-01T00:00:00</td>\n",
       "      <td>44215.000</td>\n",
       "      <td>Ton</td>\n",
       "    </tr>\n",
       "  </tbody>\n",
       "</table>\n",
       "</div>"
      ],
      "text/plain": [
       "   _id                tarih      deger birim\n",
       "0    1  2004-12-31T00:00:00      0.000   Ton\n",
       "1    2  2005-12-31T00:00:00     55.797   Ton\n",
       "2    3  2006-12-31T00:00:00    101.090   Ton\n",
       "3    4  2007-12-31T00:00:00    102.615   Ton\n",
       "4    5  2008-12-31T00:00:00    103.862   Ton\n",
       "5    6  2009-12-31T00:00:00    108.580   Ton\n",
       "6    7  2010-12-31T00:00:00    106.713   Ton\n",
       "7    8  2011-12-31T00:00:00    112.666   Ton\n",
       "8    9  2012-12-31T00:00:00    117.271   Ton\n",
       "9   10  2013-01-01T00:00:00  44215.000   Ton"
      ]
     },
     "execution_count": 13,
     "metadata": {},
     "output_type": "execute_result"
    }
   ],
   "source": [
    "data.head(10)"
   ]
  },
  {
   "cell_type": "code",
   "execution_count": 14,
   "metadata": {},
   "outputs": [],
   "source": [
    "data.drop(columns=\"_id\", axis=0, inplace=True)\n",
    "data.drop(columns=\"birim\", axis=0, inplace=True)"
   ]
  },
  {
   "cell_type": "code",
   "execution_count": 15,
   "metadata": {},
   "outputs": [],
   "source": [
    "data.rename(columns={\"deger\" : \"değer (ton)\"}, inplace=True)"
   ]
  },
  {
   "cell_type": "code",
   "execution_count": 16,
   "metadata": {},
   "outputs": [
    {
     "name": "stderr",
     "output_type": "stream",
     "text": [
      "/var/folders/jh/d35s6brj6td3270jfy770tjc0000gn/T/ipykernel_44059/2628444247.py:1: FutureWarning: The default value of regex will change from True to False in a future version. In addition, single character regular expressions will *not* be treated as literal strings when regex=True.\n",
      "  data[\"değer (ton)\"] = data[\"değer (ton)\"].astype(str).str.replace(\".\",\",\")\n"
     ]
    }
   ],
   "source": [
    "data[\"değer (ton)\"] = data[\"değer (ton)\"].astype(str).str.replace(\".\",\",\")"
   ]
  },
  {
   "cell_type": "code",
   "execution_count": 17,
   "metadata": {},
   "outputs": [],
   "source": [
    "data['tarih']=pd.to_datetime(data['tarih'], format='%Y-%m-%d')"
   ]
  },
  {
   "cell_type": "code",
   "execution_count": 18,
   "metadata": {},
   "outputs": [
    {
     "data": {
      "text/html": [
       "<div>\n",
       "<style scoped>\n",
       "    .dataframe tbody tr th:only-of-type {\n",
       "        vertical-align: middle;\n",
       "    }\n",
       "\n",
       "    .dataframe tbody tr th {\n",
       "        vertical-align: top;\n",
       "    }\n",
       "\n",
       "    .dataframe thead th {\n",
       "        text-align: right;\n",
       "    }\n",
       "</style>\n",
       "<table border=\"1\" class=\"dataframe\">\n",
       "  <thead>\n",
       "    <tr style=\"text-align: right;\">\n",
       "      <th></th>\n",
       "      <th>tarih</th>\n",
       "      <th>değer (ton)</th>\n",
       "    </tr>\n",
       "  </thead>\n",
       "  <tbody>\n",
       "    <tr>\n",
       "      <th>0</th>\n",
       "      <td>2004-12-31</td>\n",
       "      <td>0,0</td>\n",
       "    </tr>\n",
       "    <tr>\n",
       "      <th>1</th>\n",
       "      <td>2005-12-31</td>\n",
       "      <td>55,797</td>\n",
       "    </tr>\n",
       "    <tr>\n",
       "      <th>2</th>\n",
       "      <td>2006-12-31</td>\n",
       "      <td>101,09</td>\n",
       "    </tr>\n",
       "    <tr>\n",
       "      <th>3</th>\n",
       "      <td>2007-12-31</td>\n",
       "      <td>102,615</td>\n",
       "    </tr>\n",
       "    <tr>\n",
       "      <th>4</th>\n",
       "      <td>2008-12-31</td>\n",
       "      <td>103,862</td>\n",
       "    </tr>\n",
       "  </tbody>\n",
       "</table>\n",
       "</div>"
      ],
      "text/plain": [
       "       tarih değer (ton)\n",
       "0 2004-12-31         0,0\n",
       "1 2005-12-31      55,797\n",
       "2 2006-12-31      101,09\n",
       "3 2007-12-31     102,615\n",
       "4 2008-12-31     103,862"
      ]
     },
     "execution_count": 18,
     "metadata": {},
     "output_type": "execute_result"
    }
   ],
   "source": [
    "data.head()"
   ]
  },
  {
   "cell_type": "code",
   "execution_count": 19,
   "metadata": {},
   "outputs": [],
   "source": [
    "data.to_csv(\"/Users/o/Desktop/staj/kolay veriler/ilce-kati-atik/toplanan-kati-atik-miktari-meram.csv\")\n",
    "data.to_excel(\"/Users/o/Desktop/staj/kolay veriler/ilce-kati-atik/toplanan-kati-atik-miktari-meram.xlsx\")"
   ]
  }
 ],
 "metadata": {
  "kernelspec": {
   "display_name": "base",
   "language": "python",
   "name": "python3"
  },
  "language_info": {
   "codemirror_mode": {
    "name": "ipython",
    "version": 3
   },
   "file_extension": ".py",
   "mimetype": "text/x-python",
   "name": "python",
   "nbconvert_exporter": "python",
   "pygments_lexer": "ipython3",
   "version": "3.11.3"
  },
  "orig_nbformat": 4
 },
 "nbformat": 4,
 "nbformat_minor": 2
}
