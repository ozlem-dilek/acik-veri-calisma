{
 "cells": [
  {
   "cell_type": "code",
   "execution_count": 88,
   "metadata": {},
   "outputs": [],
   "source": [
    "import pandas as pd\n",
    "import numpy as np"
   ]
  },
  {
   "cell_type": "code",
   "execution_count": 89,
   "metadata": {},
   "outputs": [],
   "source": [
    "data = pd.read_csv(\"komek-kayit-sayilar-temizlenmemis-veri.csv\")"
   ]
  },
  {
   "cell_type": "code",
   "execution_count": 90,
   "metadata": {},
   "outputs": [
    {
     "name": "stdout",
     "output_type": "stream",
     "text": [
      "<class 'pandas.core.frame.DataFrame'>\n",
      "RangeIndex: 20 entries, 0 to 19\n",
      "Data columns (total 3 columns):\n",
      " #   Column           Non-Null Count  Dtype  \n",
      "---  ------           --------------  -----  \n",
      " 0   _id              20 non-null     int64  \n",
      " 1   yil              20 non-null     object \n",
      " 2   kursiyer_sayisi  19 non-null     float64\n",
      "dtypes: float64(1), int64(1), object(1)\n",
      "memory usage: 612.0+ bytes\n"
     ]
    }
   ],
   "source": [
    "data.info()"
   ]
  },
  {
   "cell_type": "code",
   "execution_count": 91,
   "metadata": {},
   "outputs": [
    {
     "data": {
      "text/html": [
       "<div>\n",
       "<style scoped>\n",
       "    .dataframe tbody tr th:only-of-type {\n",
       "        vertical-align: middle;\n",
       "    }\n",
       "\n",
       "    .dataframe tbody tr th {\n",
       "        vertical-align: top;\n",
       "    }\n",
       "\n",
       "    .dataframe thead th {\n",
       "        text-align: right;\n",
       "    }\n",
       "</style>\n",
       "<table border=\"1\" class=\"dataframe\">\n",
       "  <thead>\n",
       "    <tr style=\"text-align: right;\">\n",
       "      <th></th>\n",
       "      <th>_id</th>\n",
       "      <th>yil</th>\n",
       "      <th>kursiyer_sayisi</th>\n",
       "    </tr>\n",
       "  </thead>\n",
       "  <tbody>\n",
       "    <tr>\n",
       "      <th>0</th>\n",
       "      <td>1</td>\n",
       "      <td>2004</td>\n",
       "      <td>3.801</td>\n",
       "    </tr>\n",
       "    <tr>\n",
       "      <th>1</th>\n",
       "      <td>2</td>\n",
       "      <td>2005</td>\n",
       "      <td>5.558</td>\n",
       "    </tr>\n",
       "    <tr>\n",
       "      <th>2</th>\n",
       "      <td>3</td>\n",
       "      <td>2006</td>\n",
       "      <td>12.837</td>\n",
       "    </tr>\n",
       "    <tr>\n",
       "      <th>3</th>\n",
       "      <td>4</td>\n",
       "      <td>2007</td>\n",
       "      <td>16.634</td>\n",
       "    </tr>\n",
       "    <tr>\n",
       "      <th>4</th>\n",
       "      <td>5</td>\n",
       "      <td>2008</td>\n",
       "      <td>18.304</td>\n",
       "    </tr>\n",
       "  </tbody>\n",
       "</table>\n",
       "</div>"
      ],
      "text/plain": [
       "   _id   yil  kursiyer_sayisi\n",
       "0    1  2004            3.801\n",
       "1    2  2005            5.558\n",
       "2    3  2006           12.837\n",
       "3    4  2007           16.634\n",
       "4    5  2008           18.304"
      ]
     },
     "execution_count": 91,
     "metadata": {},
     "output_type": "execute_result"
    }
   ],
   "source": [
    "data.head(5)"
   ]
  },
  {
   "cell_type": "code",
   "execution_count": 92,
   "metadata": {},
   "outputs": [],
   "source": [
    "data.drop(columns=\"_id\", axis=0, inplace=True)"
   ]
  },
  {
   "cell_type": "code",
   "execution_count": 93,
   "metadata": {},
   "outputs": [],
   "source": [
    "data.drop(index=18, inplace=True)\n",
    "data.drop(index=19, inplace=True)"
   ]
  },
  {
   "cell_type": "code",
   "execution_count": 94,
   "metadata": {},
   "outputs": [
    {
     "data": {
      "text/html": [
       "<div>\n",
       "<style scoped>\n",
       "    .dataframe tbody tr th:only-of-type {\n",
       "        vertical-align: middle;\n",
       "    }\n",
       "\n",
       "    .dataframe tbody tr th {\n",
       "        vertical-align: top;\n",
       "    }\n",
       "\n",
       "    .dataframe thead th {\n",
       "        text-align: right;\n",
       "    }\n",
       "</style>\n",
       "<table border=\"1\" class=\"dataframe\">\n",
       "  <thead>\n",
       "    <tr style=\"text-align: right;\">\n",
       "      <th></th>\n",
       "      <th>yil</th>\n",
       "      <th>kursiyer_sayisi</th>\n",
       "    </tr>\n",
       "  </thead>\n",
       "  <tbody>\n",
       "    <tr>\n",
       "      <th>0</th>\n",
       "      <td>2004</td>\n",
       "      <td>3.801</td>\n",
       "    </tr>\n",
       "    <tr>\n",
       "      <th>1</th>\n",
       "      <td>2005</td>\n",
       "      <td>5.558</td>\n",
       "    </tr>\n",
       "    <tr>\n",
       "      <th>2</th>\n",
       "      <td>2006</td>\n",
       "      <td>12.837</td>\n",
       "    </tr>\n",
       "    <tr>\n",
       "      <th>3</th>\n",
       "      <td>2007</td>\n",
       "      <td>16.634</td>\n",
       "    </tr>\n",
       "    <tr>\n",
       "      <th>4</th>\n",
       "      <td>2008</td>\n",
       "      <td>18.304</td>\n",
       "    </tr>\n",
       "    <tr>\n",
       "      <th>5</th>\n",
       "      <td>2009</td>\n",
       "      <td>14.703</td>\n",
       "    </tr>\n",
       "    <tr>\n",
       "      <th>6</th>\n",
       "      <td>2010</td>\n",
       "      <td>15.532</td>\n",
       "    </tr>\n",
       "    <tr>\n",
       "      <th>7</th>\n",
       "      <td>2011</td>\n",
       "      <td>25.426</td>\n",
       "    </tr>\n",
       "    <tr>\n",
       "      <th>8</th>\n",
       "      <td>2012</td>\n",
       "      <td>29.195</td>\n",
       "    </tr>\n",
       "    <tr>\n",
       "      <th>9</th>\n",
       "      <td>2013</td>\n",
       "      <td>36.779</td>\n",
       "    </tr>\n",
       "    <tr>\n",
       "      <th>10</th>\n",
       "      <td>2014</td>\n",
       "      <td>56.972</td>\n",
       "    </tr>\n",
       "    <tr>\n",
       "      <th>11</th>\n",
       "      <td>2015</td>\n",
       "      <td>80.099</td>\n",
       "    </tr>\n",
       "    <tr>\n",
       "      <th>12</th>\n",
       "      <td>2016</td>\n",
       "      <td>95.384</td>\n",
       "    </tr>\n",
       "    <tr>\n",
       "      <th>13</th>\n",
       "      <td>2017</td>\n",
       "      <td>100.903</td>\n",
       "    </tr>\n",
       "    <tr>\n",
       "      <th>14</th>\n",
       "      <td>2018</td>\n",
       "      <td>142.424</td>\n",
       "    </tr>\n",
       "    <tr>\n",
       "      <th>15</th>\n",
       "      <td>2019</td>\n",
       "      <td>152.025</td>\n",
       "    </tr>\n",
       "    <tr>\n",
       "      <th>16</th>\n",
       "      <td>2020</td>\n",
       "      <td>93.017</td>\n",
       "    </tr>\n",
       "    <tr>\n",
       "      <th>17</th>\n",
       "      <td>2021</td>\n",
       "      <td>13.994</td>\n",
       "    </tr>\n",
       "  </tbody>\n",
       "</table>\n",
       "</div>"
      ],
      "text/plain": [
       "     yil  kursiyer_sayisi\n",
       "0   2004            3.801\n",
       "1   2005            5.558\n",
       "2   2006           12.837\n",
       "3   2007           16.634\n",
       "4   2008           18.304\n",
       "5   2009           14.703\n",
       "6   2010           15.532\n",
       "7   2011           25.426\n",
       "8   2012           29.195\n",
       "9   2013           36.779\n",
       "10  2014           56.972\n",
       "11  2015           80.099\n",
       "12  2016           95.384\n",
       "13  2017          100.903\n",
       "14  2018          142.424\n",
       "15  2019          152.025\n",
       "16  2020           93.017\n",
       "17  2021           13.994"
      ]
     },
     "execution_count": 94,
     "metadata": {},
     "output_type": "execute_result"
    }
   ],
   "source": [
    "data"
   ]
  },
  {
   "cell_type": "code",
   "execution_count": 95,
   "metadata": {},
   "outputs": [
    {
     "name": "stderr",
     "output_type": "stream",
     "text": [
      "/var/folders/jh/d35s6brj6td3270jfy770tjc0000gn/T/ipykernel_14108/622584640.py:1: FutureWarning: The default value of regex will change from True to False in a future version. In addition, single character regular expressions will *not* be treated as literal strings when regex=True.\n",
      "  data[\"kursiyer_sayisi\"] = data[\"kursiyer_sayisi\"].astype(str).str.replace(\".\", \"\")\n"
     ]
    }
   ],
   "source": [
    "data[\"kursiyer_sayisi\"] = data[\"kursiyer_sayisi\"].astype(str).str.replace(\".\", \"\")"
   ]
  },
  {
   "cell_type": "code",
   "execution_count": 96,
   "metadata": {},
   "outputs": [
    {
     "data": {
      "text/html": [
       "<div>\n",
       "<style scoped>\n",
       "    .dataframe tbody tr th:only-of-type {\n",
       "        vertical-align: middle;\n",
       "    }\n",
       "\n",
       "    .dataframe tbody tr th {\n",
       "        vertical-align: top;\n",
       "    }\n",
       "\n",
       "    .dataframe thead th {\n",
       "        text-align: right;\n",
       "    }\n",
       "</style>\n",
       "<table border=\"1\" class=\"dataframe\">\n",
       "  <thead>\n",
       "    <tr style=\"text-align: right;\">\n",
       "      <th></th>\n",
       "      <th>yil</th>\n",
       "      <th>kursiyer_sayisi</th>\n",
       "    </tr>\n",
       "  </thead>\n",
       "  <tbody>\n",
       "    <tr>\n",
       "      <th>0</th>\n",
       "      <td>2004</td>\n",
       "      <td>3801</td>\n",
       "    </tr>\n",
       "    <tr>\n",
       "      <th>1</th>\n",
       "      <td>2005</td>\n",
       "      <td>5558</td>\n",
       "    </tr>\n",
       "    <tr>\n",
       "      <th>2</th>\n",
       "      <td>2006</td>\n",
       "      <td>12837</td>\n",
       "    </tr>\n",
       "    <tr>\n",
       "      <th>3</th>\n",
       "      <td>2007</td>\n",
       "      <td>16634</td>\n",
       "    </tr>\n",
       "    <tr>\n",
       "      <th>4</th>\n",
       "      <td>2008</td>\n",
       "      <td>18304</td>\n",
       "    </tr>\n",
       "  </tbody>\n",
       "</table>\n",
       "</div>"
      ],
      "text/plain": [
       "    yil kursiyer_sayisi\n",
       "0  2004            3801\n",
       "1  2005            5558\n",
       "2  2006           12837\n",
       "3  2007           16634\n",
       "4  2008           18304"
      ]
     },
     "execution_count": 96,
     "metadata": {},
     "output_type": "execute_result"
    }
   ],
   "source": [
    "data.head()"
   ]
  },
  {
   "cell_type": "code",
   "execution_count": 97,
   "metadata": {},
   "outputs": [],
   "source": [
    "data[\"yil\"] = data[\"yil\"].astype(int)"
   ]
  },
  {
   "cell_type": "code",
   "execution_count": 98,
   "metadata": {},
   "outputs": [],
   "source": [
    "veri2004 = data[data[\"yil\"] == 2004]\n",
    "veri2005 = data[data[\"yil\"] == 2005]\n",
    "veri2006 = data[data[\"yil\"] == 2006]\n",
    "veri2007 = data[data[\"yil\"] == 2007]\n",
    "veri2008 = data[data[\"yil\"] == 2008]\n",
    "veri2009 = data[data[\"yil\"] == 2009]\n",
    "veri2010 = data[data[\"yil\"] == 2010]\n",
    "veri2011 = data[data[\"yil\"] == 2011]\n",
    "veri2012 = data[data[\"yil\"] == 2012]\n",
    "veri2013 = data[data[\"yil\"] == 2013]\n",
    "veri2014 = data[data[\"yil\"] == 2014]\n",
    "veri2015 = data[data[\"yil\"] == 2015]\n",
    "veri2016 = data[data[\"yil\"] == 2016]\n",
    "veri2017 = data[data[\"yil\"] == 2017]\n",
    "veri2018 = data[data[\"yil\"] == 2018]\n",
    "veri2019 = data[data[\"yil\"] == 2019]\n",
    "veri2020 = data[data[\"yil\"] == 2020]\n",
    "veri2021 = data[data[\"yil\"] == 2021]\n",
    "\n"
   ]
  },
  {
   "cell_type": "code",
   "execution_count": 99,
   "metadata": {},
   "outputs": [
    {
     "name": "stderr",
     "output_type": "stream",
     "text": [
      "/var/folders/jh/d35s6brj6td3270jfy770tjc0000gn/T/ipykernel_14108/1528951942.py:1: SettingWithCopyWarning: \n",
      "A value is trying to be set on a copy of a slice from a DataFrame\n",
      "\n",
      "See the caveats in the documentation: https://pandas.pydata.org/pandas-docs/stable/user_guide/indexing.html#returning-a-view-versus-a-copy\n",
      "  veri2004.drop(columns=\"yil\", inplace=True)\n",
      "/var/folders/jh/d35s6brj6td3270jfy770tjc0000gn/T/ipykernel_14108/1528951942.py:2: SettingWithCopyWarning: \n",
      "A value is trying to be set on a copy of a slice from a DataFrame\n",
      "\n",
      "See the caveats in the documentation: https://pandas.pydata.org/pandas-docs/stable/user_guide/indexing.html#returning-a-view-versus-a-copy\n",
      "  veri2005.drop(columns=\"yil\", inplace=True)\n",
      "/var/folders/jh/d35s6brj6td3270jfy770tjc0000gn/T/ipykernel_14108/1528951942.py:3: SettingWithCopyWarning: \n",
      "A value is trying to be set on a copy of a slice from a DataFrame\n",
      "\n",
      "See the caveats in the documentation: https://pandas.pydata.org/pandas-docs/stable/user_guide/indexing.html#returning-a-view-versus-a-copy\n",
      "  veri2006.drop(columns=\"yil\", inplace=True)\n",
      "/var/folders/jh/d35s6brj6td3270jfy770tjc0000gn/T/ipykernel_14108/1528951942.py:4: SettingWithCopyWarning: \n",
      "A value is trying to be set on a copy of a slice from a DataFrame\n",
      "\n",
      "See the caveats in the documentation: https://pandas.pydata.org/pandas-docs/stable/user_guide/indexing.html#returning-a-view-versus-a-copy\n",
      "  veri2007.drop(columns=\"yil\", inplace=True)\n",
      "/var/folders/jh/d35s6brj6td3270jfy770tjc0000gn/T/ipykernel_14108/1528951942.py:5: SettingWithCopyWarning: \n",
      "A value is trying to be set on a copy of a slice from a DataFrame\n",
      "\n",
      "See the caveats in the documentation: https://pandas.pydata.org/pandas-docs/stable/user_guide/indexing.html#returning-a-view-versus-a-copy\n",
      "  veri2008.drop(columns=\"yil\", inplace=True)\n",
      "/var/folders/jh/d35s6brj6td3270jfy770tjc0000gn/T/ipykernel_14108/1528951942.py:6: SettingWithCopyWarning: \n",
      "A value is trying to be set on a copy of a slice from a DataFrame\n",
      "\n",
      "See the caveats in the documentation: https://pandas.pydata.org/pandas-docs/stable/user_guide/indexing.html#returning-a-view-versus-a-copy\n",
      "  veri2009.drop(columns=\"yil\", inplace=True)\n",
      "/var/folders/jh/d35s6brj6td3270jfy770tjc0000gn/T/ipykernel_14108/1528951942.py:7: SettingWithCopyWarning: \n",
      "A value is trying to be set on a copy of a slice from a DataFrame\n",
      "\n",
      "See the caveats in the documentation: https://pandas.pydata.org/pandas-docs/stable/user_guide/indexing.html#returning-a-view-versus-a-copy\n",
      "  veri2010.drop(columns=\"yil\", inplace=True)\n",
      "/var/folders/jh/d35s6brj6td3270jfy770tjc0000gn/T/ipykernel_14108/1528951942.py:8: SettingWithCopyWarning: \n",
      "A value is trying to be set on a copy of a slice from a DataFrame\n",
      "\n",
      "See the caveats in the documentation: https://pandas.pydata.org/pandas-docs/stable/user_guide/indexing.html#returning-a-view-versus-a-copy\n",
      "  veri2011.drop(columns=\"yil\", inplace=True)\n",
      "/var/folders/jh/d35s6brj6td3270jfy770tjc0000gn/T/ipykernel_14108/1528951942.py:9: SettingWithCopyWarning: \n",
      "A value is trying to be set on a copy of a slice from a DataFrame\n",
      "\n",
      "See the caveats in the documentation: https://pandas.pydata.org/pandas-docs/stable/user_guide/indexing.html#returning-a-view-versus-a-copy\n",
      "  veri2012.drop(columns=\"yil\", inplace=True)\n",
      "/var/folders/jh/d35s6brj6td3270jfy770tjc0000gn/T/ipykernel_14108/1528951942.py:10: SettingWithCopyWarning: \n",
      "A value is trying to be set on a copy of a slice from a DataFrame\n",
      "\n",
      "See the caveats in the documentation: https://pandas.pydata.org/pandas-docs/stable/user_guide/indexing.html#returning-a-view-versus-a-copy\n",
      "  veri2013.drop(columns=\"yil\", inplace=True)\n",
      "/var/folders/jh/d35s6brj6td3270jfy770tjc0000gn/T/ipykernel_14108/1528951942.py:11: SettingWithCopyWarning: \n",
      "A value is trying to be set on a copy of a slice from a DataFrame\n",
      "\n",
      "See the caveats in the documentation: https://pandas.pydata.org/pandas-docs/stable/user_guide/indexing.html#returning-a-view-versus-a-copy\n",
      "  veri2014.drop(columns=\"yil\", inplace=True)\n",
      "/var/folders/jh/d35s6brj6td3270jfy770tjc0000gn/T/ipykernel_14108/1528951942.py:12: SettingWithCopyWarning: \n",
      "A value is trying to be set on a copy of a slice from a DataFrame\n",
      "\n",
      "See the caveats in the documentation: https://pandas.pydata.org/pandas-docs/stable/user_guide/indexing.html#returning-a-view-versus-a-copy\n",
      "  veri2015.drop(columns=\"yil\", inplace=True)\n",
      "/var/folders/jh/d35s6brj6td3270jfy770tjc0000gn/T/ipykernel_14108/1528951942.py:13: SettingWithCopyWarning: \n",
      "A value is trying to be set on a copy of a slice from a DataFrame\n",
      "\n",
      "See the caveats in the documentation: https://pandas.pydata.org/pandas-docs/stable/user_guide/indexing.html#returning-a-view-versus-a-copy\n",
      "  veri2016.drop(columns=\"yil\", inplace=True)\n",
      "/var/folders/jh/d35s6brj6td3270jfy770tjc0000gn/T/ipykernel_14108/1528951942.py:14: SettingWithCopyWarning: \n",
      "A value is trying to be set on a copy of a slice from a DataFrame\n",
      "\n",
      "See the caveats in the documentation: https://pandas.pydata.org/pandas-docs/stable/user_guide/indexing.html#returning-a-view-versus-a-copy\n",
      "  veri2017.drop(columns=\"yil\", inplace=True)\n",
      "/var/folders/jh/d35s6brj6td3270jfy770tjc0000gn/T/ipykernel_14108/1528951942.py:15: SettingWithCopyWarning: \n",
      "A value is trying to be set on a copy of a slice from a DataFrame\n",
      "\n",
      "See the caveats in the documentation: https://pandas.pydata.org/pandas-docs/stable/user_guide/indexing.html#returning-a-view-versus-a-copy\n",
      "  veri2018.drop(columns=\"yil\", inplace=True)\n",
      "/var/folders/jh/d35s6brj6td3270jfy770tjc0000gn/T/ipykernel_14108/1528951942.py:16: SettingWithCopyWarning: \n",
      "A value is trying to be set on a copy of a slice from a DataFrame\n",
      "\n",
      "See the caveats in the documentation: https://pandas.pydata.org/pandas-docs/stable/user_guide/indexing.html#returning-a-view-versus-a-copy\n",
      "  veri2019.drop(columns=\"yil\", inplace=True)\n",
      "/var/folders/jh/d35s6brj6td3270jfy770tjc0000gn/T/ipykernel_14108/1528951942.py:17: SettingWithCopyWarning: \n",
      "A value is trying to be set on a copy of a slice from a DataFrame\n",
      "\n",
      "See the caveats in the documentation: https://pandas.pydata.org/pandas-docs/stable/user_guide/indexing.html#returning-a-view-versus-a-copy\n",
      "  veri2020.drop(columns=\"yil\", inplace=True)\n",
      "/var/folders/jh/d35s6brj6td3270jfy770tjc0000gn/T/ipykernel_14108/1528951942.py:18: SettingWithCopyWarning: \n",
      "A value is trying to be set on a copy of a slice from a DataFrame\n",
      "\n",
      "See the caveats in the documentation: https://pandas.pydata.org/pandas-docs/stable/user_guide/indexing.html#returning-a-view-versus-a-copy\n",
      "  veri2021.drop(columns=\"yil\", inplace=True)\n"
     ]
    }
   ],
   "source": [
    "veri2004.drop(columns=\"yil\", inplace=True)\n",
    "veri2005.drop(columns=\"yil\", inplace=True)\n",
    "veri2006.drop(columns=\"yil\", inplace=True)\n",
    "veri2007.drop(columns=\"yil\", inplace=True)\n",
    "veri2008.drop(columns=\"yil\", inplace=True)\n",
    "veri2009.drop(columns=\"yil\", inplace=True)\n",
    "veri2010.drop(columns=\"yil\", inplace=True)\n",
    "veri2011.drop(columns=\"yil\", inplace=True)\n",
    "veri2012.drop(columns=\"yil\", inplace=True)\n",
    "veri2013.drop(columns=\"yil\", inplace=True)\n",
    "veri2014.drop(columns=\"yil\", inplace=True)\n",
    "veri2015.drop(columns=\"yil\", inplace=True)\n",
    "veri2016.drop(columns=\"yil\", inplace=True)\n",
    "veri2017.drop(columns=\"yil\", inplace=True)\n",
    "veri2018.drop(columns=\"yil\", inplace=True)\n",
    "veri2019.drop(columns=\"yil\", inplace=True)\n",
    "veri2020.drop(columns=\"yil\", inplace=True)\n",
    "veri2021.drop(columns=\"yil\", inplace=True)\n",
    "\n"
   ]
  },
  {
   "cell_type": "code",
   "execution_count": 100,
   "metadata": {},
   "outputs": [
    {
     "data": {
      "text/html": [
       "<div>\n",
       "<style scoped>\n",
       "    .dataframe tbody tr th:only-of-type {\n",
       "        vertical-align: middle;\n",
       "    }\n",
       "\n",
       "    .dataframe tbody tr th {\n",
       "        vertical-align: top;\n",
       "    }\n",
       "\n",
       "    .dataframe thead th {\n",
       "        text-align: right;\n",
       "    }\n",
       "</style>\n",
       "<table border=\"1\" class=\"dataframe\">\n",
       "  <thead>\n",
       "    <tr style=\"text-align: right;\">\n",
       "      <th></th>\n",
       "      <th>kursiyer_sayisi</th>\n",
       "    </tr>\n",
       "  </thead>\n",
       "  <tbody>\n",
       "    <tr>\n",
       "      <th>17</th>\n",
       "      <td>13994</td>\n",
       "    </tr>\n",
       "  </tbody>\n",
       "</table>\n",
       "</div>"
      ],
      "text/plain": [
       "   kursiyer_sayisi\n",
       "17           13994"
      ]
     },
     "execution_count": 100,
     "metadata": {},
     "output_type": "execute_result"
    }
   ],
   "source": [
    "veri2021"
   ]
  },
  {
   "cell_type": "code",
   "execution_count": 101,
   "metadata": {},
   "outputs": [],
   "source": [
    "veri2004.to_csv(\"/Users/o/Desktop/acik-veri-calismalari/komek-kursiyer-sayilari/2004-komek-kursiyer-sayilari.csv\", index=False, header=True)\n",
    "veri2004.to_excel(\"/Users/o/Desktop/acik-veri-calismalari/komek-kursiyer-sayilari/2004-komek-kursiyer-sayilari.xlsx\", index=False, header=True)"
   ]
  },
  {
   "cell_type": "code",
   "execution_count": 102,
   "metadata": {},
   "outputs": [],
   "source": [
    "veri2005.to_csv(\"/Users/o/Desktop/acik-veri-calismalari/komek-kursiyer-sayilari/2005-komek-kursiyer-sayilari.csv\", index=False, header=True)\n",
    "veri2005.to_excel(\"/Users/o/Desktop/acik-veri-calismalari/komek-kursiyer-sayilari/2005-komek-kursiyer-sayilari.xlsx\", index=False, header=True)"
   ]
  },
  {
   "cell_type": "code",
   "execution_count": 103,
   "metadata": {},
   "outputs": [],
   "source": [
    "veri2006.to_csv(\"/Users/o/Desktop/acik-veri-calismalari/komek-kursiyer-sayilari/2006-komek-kursiyer-sayilari.csv\", index=False, header=True)\n",
    "veri2006.to_excel(\"/Users/o/Desktop/acik-veri-calismalari/komek-kursiyer-sayilari/2006-komek-kursiyer-sayilari.xlsx\", index=False, header=True)"
   ]
  },
  {
   "cell_type": "code",
   "execution_count": 104,
   "metadata": {},
   "outputs": [],
   "source": [
    "veri2007.to_csv(\"/Users/o/Desktop/acik-veri-calismalari/komek-kursiyer-sayilari/2007-komek-kursiyer-sayilari.csv\", index=False, header=True)\n",
    "veri2007.to_excel(\"/Users/o/Desktop/acik-veri-calismalari/komek-kursiyer-sayilari/2007-komek-kursiyer-sayilari.xlsx\", index=False, header=True)"
   ]
  },
  {
   "cell_type": "code",
   "execution_count": 105,
   "metadata": {},
   "outputs": [],
   "source": [
    "veri2008.to_csv(\"/Users/o/Desktop/acik-veri-calismalari/komek-kursiyer-sayilari/2008-komek-kursiyer-sayilari.csv\", index=False, header=True)\n",
    "veri2008.to_excel(\"/Users/o/Desktop/acik-veri-calismalari/komek-kursiyer-sayilari/2008-komek-kursiyer-sayilari.xlsx\", index=False, header=True)"
   ]
  },
  {
   "cell_type": "code",
   "execution_count": 106,
   "metadata": {},
   "outputs": [],
   "source": [
    "veri2009.to_csv(\"/Users/o/Desktop/acik-veri-calismalari/komek-kursiyer-sayilari/2009-komek-kursiyer-sayilari.csv\", index=False, header=True)\n",
    "veri2009.to_excel(\"/Users/o/Desktop/acik-veri-calismalari/komek-kursiyer-sayilari/2009-komek-kursiyer-sayilari.xlsx\", index=False, header=True)"
   ]
  },
  {
   "cell_type": "code",
   "execution_count": 107,
   "metadata": {},
   "outputs": [],
   "source": [
    "veri2010.to_csv(\"/Users/o/Desktop/acik-veri-calismalari/komek-kursiyer-sayilari/2010-komek-kursiyer-sayilari.csv\", index=False, header=True)\n",
    "veri2010.to_excel(\"/Users/o/Desktop/acik-veri-calismalari/komek-kursiyer-sayilari/2010-komek-kursiyer-sayilari.xlsx\", index=False, header=True)"
   ]
  },
  {
   "cell_type": "code",
   "execution_count": 108,
   "metadata": {},
   "outputs": [],
   "source": [
    "veri2011.to_csv(\"/Users/o/Desktop/acik-veri-calismalari/komek-kursiyer-sayilari/2011-komek-kursiyer-sayilari.csv\", index=False, header=True)\n",
    "veri2011.to_excel(\"/Users/o/Desktop/acik-veri-calismalari/komek-kursiyer-sayilari/2011-komek-kursiyer-sayilari.xlsx\", index=False, header=True)"
   ]
  },
  {
   "cell_type": "code",
   "execution_count": 109,
   "metadata": {},
   "outputs": [],
   "source": [
    "veri2012.to_csv(\"/Users/o/Desktop/acik-veri-calismalari/komek-kursiyer-sayilari/2012-komek-kursiyer-sayilari.csv\", index=False, header=True)\n",
    "veri2012.to_excel(\"/Users/o/Desktop/acik-veri-calismalari/komek-kursiyer-sayilari/2012-komek-kursiyer-sayilari.xlsx\", index=False, header=True)"
   ]
  },
  {
   "cell_type": "code",
   "execution_count": 110,
   "metadata": {},
   "outputs": [],
   "source": [
    "veri2013.to_csv(\"/Users/o/Desktop/acik-veri-calismalari/komek-kursiyer-sayilari/2013-komek-kursiyer-sayilari.csv\", index=False, header=True)\n",
    "veri2013.to_excel(\"/Users/o/Desktop/acik-veri-calismalari/komek-kursiyer-sayilari/2013-komek-kursiyer-sayilari.xlsx\", index=False, header=True)"
   ]
  },
  {
   "cell_type": "code",
   "execution_count": 111,
   "metadata": {},
   "outputs": [],
   "source": [
    "veri2014.to_csv(\"/Users/o/Desktop/acik-veri-calismalari/komek-kursiyer-sayilari/2014-komek-kursiyer-sayilari.csv\", index=False, header=True)\n",
    "veri2014.to_excel(\"/Users/o/Desktop/acik-veri-calismalari/komek-kursiyer-sayilari/2014-komek-kursiyer-sayilari.xlsx\", index=False, header=True)"
   ]
  },
  {
   "cell_type": "code",
   "execution_count": 112,
   "metadata": {},
   "outputs": [],
   "source": [
    "veri2015.to_csv(\"/Users/o/Desktop/acik-veri-calismalari/komek-kursiyer-sayilari/2015-komek-kursiyer-sayilari.csv\", index=False, header=True)\n",
    "veri2015.to_excel(\"/Users/o/Desktop/acik-veri-calismalari/komek-kursiyer-sayilari/2015-komek-kursiyer-sayilari.xlsx\", index=False, header=True)"
   ]
  },
  {
   "cell_type": "code",
   "execution_count": 113,
   "metadata": {},
   "outputs": [],
   "source": [
    "veri2016.to_csv(\"/Users/o/Desktop/acik-veri-calismalari/komek-kursiyer-sayilari/2016-komek-kursiyer-sayilari.csv\", index=False, header=True)\n",
    "veri2016.to_excel(\"/Users/o/Desktop/acik-veri-calismalari/komek-kursiyer-sayilari/2016-komek-kursiyer-sayilari.xlsx\", index=False, header=True)"
   ]
  },
  {
   "cell_type": "code",
   "execution_count": 114,
   "metadata": {},
   "outputs": [],
   "source": [
    "veri2017.to_csv(\"/Users/o/Desktop/acik-veri-calismalari/komek-kursiyer-sayilari/2017-komek-kursiyer-sayilari.csv\", index=False, header=True)\n",
    "veri2017.to_excel(\"/Users/o/Desktop/acik-veri-calismalari/komek-kursiyer-sayilari/2017-komek-kursiyer-sayilari.xlsx\", index=False, header=True)"
   ]
  },
  {
   "cell_type": "code",
   "execution_count": 115,
   "metadata": {},
   "outputs": [],
   "source": [
    "veri2018.to_csv(\"/Users/o/Desktop/acik-veri-calismalari/komek-kursiyer-sayilari/2018-komek-kursiyer-sayilari.csv\", index=False, header=True)\n",
    "veri2018.to_excel(\"/Users/o/Desktop/acik-veri-calismalari/komek-kursiyer-sayilari/2018-komek-kursiyer-sayilari.xlsx\", index=False, header=True)"
   ]
  },
  {
   "cell_type": "code",
   "execution_count": 116,
   "metadata": {},
   "outputs": [],
   "source": [
    "veri2019.to_csv(\"/Users/o/Desktop/acik-veri-calismalari/komek-kursiyer-sayilari/2019-komek-kursiyer-sayilari.csv\", index=False, header=True)\n",
    "veri2019.to_excel(\"/Users/o/Desktop/acik-veri-calismalari/komek-kursiyer-sayilari/2019-komek-kursiyer-sayilari.xlsx\", index=False, header=True)"
   ]
  },
  {
   "cell_type": "code",
   "execution_count": 117,
   "metadata": {},
   "outputs": [],
   "source": [
    "veri2021.to_csv(\"/Users/o/Desktop/acik-veri-calismalari/komek-kursiyer-sayilari/2021-komek-kursiyer-sayilari.csv\", index=False, header=True)\n",
    "veri2021.to_excel(\"/Users/o/Desktop/acik-veri-calismalari/komek-kursiyer-sayilari/2021-komek-kursiyer-sayilari.xlsx\", index=False, header=True)"
   ]
  },
  {
   "cell_type": "code",
   "execution_count": 118,
   "metadata": {},
   "outputs": [],
   "source": [
    "veri2020.to_csv(\"/Users/o/Desktop/acik-veri-calismalari/komek-kursiyer-sayilari/2020-komek-kursiyer-sayilari.csv\", index=False, header=True)\n",
    "veri2020.to_excel(\"/Users/o/Desktop/acik-veri-calismalari/komek-kursiyer-sayilari/2020-komek-kursiyer-sayilari.xlsx\", index=False, header=True)"
   ]
  },
  {
   "cell_type": "code",
   "execution_count": null,
   "metadata": {},
   "outputs": [],
   "source": []
  }
 ],
 "metadata": {
  "kernelspec": {
   "display_name": "base",
   "language": "python",
   "name": "python3"
  },
  "language_info": {
   "codemirror_mode": {
    "name": "ipython",
    "version": 3
   },
   "file_extension": ".py",
   "mimetype": "text/x-python",
   "name": "python",
   "nbconvert_exporter": "python",
   "pygments_lexer": "ipython3",
   "version": "3.11.3"
  },
  "orig_nbformat": 4
 },
 "nbformat": 4,
 "nbformat_minor": 2
}
