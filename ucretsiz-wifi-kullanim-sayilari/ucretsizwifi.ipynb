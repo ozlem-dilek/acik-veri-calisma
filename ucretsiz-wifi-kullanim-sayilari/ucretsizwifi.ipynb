{
 "cells": [
  {
   "cell_type": "code",
   "execution_count": 1,
   "metadata": {},
   "outputs": [],
   "source": [
    "import pandas as pd\n",
    "import numpy as np"
   ]
  },
  {
   "cell_type": "code",
   "execution_count": 2,
   "metadata": {},
   "outputs": [],
   "source": [
    "data = pd.read_csv(\"internetkullanimveri-temizlenmemis.csv\")"
   ]
  },
  {
   "cell_type": "code",
   "execution_count": 3,
   "metadata": {},
   "outputs": [
    {
     "data": {
      "text/plain": [
       "<bound method DataFrame.info of     _id   tarih  android  apple  windows  linux  unknown  toplam  unnamed:_7  \\\n",
       "0     1  Oca.21     1528    320      108      2        0    1958         NaN   \n",
       "1     2  Žub.21     1861    360       88      2        0    2311         NaN   \n",
       "2     3  Mar.21     2196    463      171      6        1    2837         NaN   \n",
       "3     4  Nis.21     1882    385      126      2        0    2395         NaN   \n",
       "4     5  May.21     1813    358       87      4        0    2262         NaN   \n",
       "5     6  Haz.21     2692    565      176      1        1    3435         NaN   \n",
       "6     7  Tem.21     3204    744      141      2        0    4091         NaN   \n",
       "7     8  Ašu.21     2469    685      122      0        1    3277         NaN   \n",
       "8     9  Eyl.21     3160    600      112      2        0    3874         NaN   \n",
       "9    10  Eki.21     4149    805      689      1        0    5644         NaN   \n",
       "10   11  Kas.21     4087    738      854      0        1    5680         NaN   \n",
       "11   12  Ara.21     3871    691      668      2        0    5232         NaN   \n",
       "12   13  Oca.22     3568    637      573      1        0    4779         NaN   \n",
       "13   14  Žub.22     3331    526      805      2        0    4664         NaN   \n",
       "\n",
       "    unnamed:_8  \n",
       "0          NaN  \n",
       "1          NaN  \n",
       "2          NaN  \n",
       "3          NaN  \n",
       "4          NaN  \n",
       "5          NaN  \n",
       "6          NaN  \n",
       "7          NaN  \n",
       "8          NaN  \n",
       "9          NaN  \n",
       "10         NaN  \n",
       "11         NaN  \n",
       "12         NaN  \n",
       "13         NaN  >"
      ]
     },
     "execution_count": 3,
     "metadata": {},
     "output_type": "execute_result"
    }
   ],
   "source": [
    "data.info"
   ]
  },
  {
   "cell_type": "code",
   "execution_count": 4,
   "metadata": {},
   "outputs": [
    {
     "data": {
      "text/html": [
       "<div>\n",
       "<style scoped>\n",
       "    .dataframe tbody tr th:only-of-type {\n",
       "        vertical-align: middle;\n",
       "    }\n",
       "\n",
       "    .dataframe tbody tr th {\n",
       "        vertical-align: top;\n",
       "    }\n",
       "\n",
       "    .dataframe thead th {\n",
       "        text-align: right;\n",
       "    }\n",
       "</style>\n",
       "<table border=\"1\" class=\"dataframe\">\n",
       "  <thead>\n",
       "    <tr style=\"text-align: right;\">\n",
       "      <th></th>\n",
       "      <th>_id</th>\n",
       "      <th>tarih</th>\n",
       "      <th>android</th>\n",
       "      <th>apple</th>\n",
       "      <th>windows</th>\n",
       "      <th>linux</th>\n",
       "      <th>unknown</th>\n",
       "      <th>toplam</th>\n",
       "      <th>unnamed:_7</th>\n",
       "      <th>unnamed:_8</th>\n",
       "    </tr>\n",
       "  </thead>\n",
       "  <tbody>\n",
       "    <tr>\n",
       "      <th>0</th>\n",
       "      <td>1</td>\n",
       "      <td>Oca.21</td>\n",
       "      <td>1528</td>\n",
       "      <td>320</td>\n",
       "      <td>108</td>\n",
       "      <td>2</td>\n",
       "      <td>0</td>\n",
       "      <td>1958</td>\n",
       "      <td>NaN</td>\n",
       "      <td>NaN</td>\n",
       "    </tr>\n",
       "    <tr>\n",
       "      <th>1</th>\n",
       "      <td>2</td>\n",
       "      <td>Žub.21</td>\n",
       "      <td>1861</td>\n",
       "      <td>360</td>\n",
       "      <td>88</td>\n",
       "      <td>2</td>\n",
       "      <td>0</td>\n",
       "      <td>2311</td>\n",
       "      <td>NaN</td>\n",
       "      <td>NaN</td>\n",
       "    </tr>\n",
       "    <tr>\n",
       "      <th>2</th>\n",
       "      <td>3</td>\n",
       "      <td>Mar.21</td>\n",
       "      <td>2196</td>\n",
       "      <td>463</td>\n",
       "      <td>171</td>\n",
       "      <td>6</td>\n",
       "      <td>1</td>\n",
       "      <td>2837</td>\n",
       "      <td>NaN</td>\n",
       "      <td>NaN</td>\n",
       "    </tr>\n",
       "    <tr>\n",
       "      <th>3</th>\n",
       "      <td>4</td>\n",
       "      <td>Nis.21</td>\n",
       "      <td>1882</td>\n",
       "      <td>385</td>\n",
       "      <td>126</td>\n",
       "      <td>2</td>\n",
       "      <td>0</td>\n",
       "      <td>2395</td>\n",
       "      <td>NaN</td>\n",
       "      <td>NaN</td>\n",
       "    </tr>\n",
       "    <tr>\n",
       "      <th>4</th>\n",
       "      <td>5</td>\n",
       "      <td>May.21</td>\n",
       "      <td>1813</td>\n",
       "      <td>358</td>\n",
       "      <td>87</td>\n",
       "      <td>4</td>\n",
       "      <td>0</td>\n",
       "      <td>2262</td>\n",
       "      <td>NaN</td>\n",
       "      <td>NaN</td>\n",
       "    </tr>\n",
       "  </tbody>\n",
       "</table>\n",
       "</div>"
      ],
      "text/plain": [
       "   _id   tarih  android  apple  windows  linux  unknown  toplam  unnamed:_7  \\\n",
       "0    1  Oca.21     1528    320      108      2        0    1958         NaN   \n",
       "1    2  Žub.21     1861    360       88      2        0    2311         NaN   \n",
       "2    3  Mar.21     2196    463      171      6        1    2837         NaN   \n",
       "3    4  Nis.21     1882    385      126      2        0    2395         NaN   \n",
       "4    5  May.21     1813    358       87      4        0    2262         NaN   \n",
       "\n",
       "   unnamed:_8  \n",
       "0         NaN  \n",
       "1         NaN  \n",
       "2         NaN  \n",
       "3         NaN  \n",
       "4         NaN  "
      ]
     },
     "execution_count": 4,
     "metadata": {},
     "output_type": "execute_result"
    }
   ],
   "source": [
    "data.head()"
   ]
  },
  {
   "cell_type": "code",
   "execution_count": 5,
   "metadata": {},
   "outputs": [],
   "source": [
    "data= data.drop(columns=\"_id\", axis=0)"
   ]
  },
  {
   "cell_type": "code",
   "execution_count": 6,
   "metadata": {},
   "outputs": [],
   "source": [
    "data= data.drop(columns=\"unnamed:_7\", axis=0)"
   ]
  },
  {
   "cell_type": "code",
   "execution_count": 7,
   "metadata": {},
   "outputs": [],
   "source": [
    "data= data.drop(columns=\"unnamed:_8\", axis=0)"
   ]
  },
  {
   "cell_type": "code",
   "execution_count": 8,
   "metadata": {},
   "outputs": [],
   "source": [
    "data[['ay', 'yıl']] = data[\"tarih\"].astype('str').str.split(\".\", expand=True)"
   ]
  },
  {
   "cell_type": "code",
   "execution_count": 9,
   "metadata": {},
   "outputs": [],
   "source": [
    "data= data.drop(columns=\"tarih\", axis=0)"
   ]
  },
  {
   "cell_type": "code",
   "execution_count": 10,
   "metadata": {},
   "outputs": [],
   "source": [
    "data[\"ay\"] = data[\"ay\"].replace({\n",
    "    'Oca' : '01',\n",
    "    'Žub' : '02',\n",
    "    'Mar' : '03',\n",
    "    'Nis' : '04',\n",
    "    'May' : '05',\n",
    "    'Haz' : '06',\n",
    "    'Tem' : '07',\n",
    "    'Ašu' : '08',\n",
    "    'Eyl' : '09',\n",
    "    'Eki' : '10',\n",
    "    'Kas' : '11',\n",
    "    'Ara' : '12'\n",
    "})"
   ]
  },
  {
   "cell_type": "code",
   "execution_count": 11,
   "metadata": {},
   "outputs": [],
   "source": [
    "data[\"yıl\"] = data[\"yıl\"].replace({\n",
    "    '21' : '2021',\n",
    "    '22' : '2022'\n",
    "})"
   ]
  },
  {
   "cell_type": "code",
   "execution_count": 12,
   "metadata": {},
   "outputs": [
    {
     "data": {
      "text/html": [
       "<div>\n",
       "<style scoped>\n",
       "    .dataframe tbody tr th:only-of-type {\n",
       "        vertical-align: middle;\n",
       "    }\n",
       "\n",
       "    .dataframe tbody tr th {\n",
       "        vertical-align: top;\n",
       "    }\n",
       "\n",
       "    .dataframe thead th {\n",
       "        text-align: right;\n",
       "    }\n",
       "</style>\n",
       "<table border=\"1\" class=\"dataframe\">\n",
       "  <thead>\n",
       "    <tr style=\"text-align: right;\">\n",
       "      <th></th>\n",
       "      <th>android</th>\n",
       "      <th>apple</th>\n",
       "      <th>windows</th>\n",
       "      <th>linux</th>\n",
       "      <th>unknown</th>\n",
       "      <th>toplam</th>\n",
       "      <th>ay</th>\n",
       "      <th>yıl</th>\n",
       "    </tr>\n",
       "  </thead>\n",
       "  <tbody>\n",
       "    <tr>\n",
       "      <th>0</th>\n",
       "      <td>1528</td>\n",
       "      <td>320</td>\n",
       "      <td>108</td>\n",
       "      <td>2</td>\n",
       "      <td>0</td>\n",
       "      <td>1958</td>\n",
       "      <td>01</td>\n",
       "      <td>2021</td>\n",
       "    </tr>\n",
       "    <tr>\n",
       "      <th>1</th>\n",
       "      <td>1861</td>\n",
       "      <td>360</td>\n",
       "      <td>88</td>\n",
       "      <td>2</td>\n",
       "      <td>0</td>\n",
       "      <td>2311</td>\n",
       "      <td>02</td>\n",
       "      <td>2021</td>\n",
       "    </tr>\n",
       "    <tr>\n",
       "      <th>2</th>\n",
       "      <td>2196</td>\n",
       "      <td>463</td>\n",
       "      <td>171</td>\n",
       "      <td>6</td>\n",
       "      <td>1</td>\n",
       "      <td>2837</td>\n",
       "      <td>03</td>\n",
       "      <td>2021</td>\n",
       "    </tr>\n",
       "    <tr>\n",
       "      <th>3</th>\n",
       "      <td>1882</td>\n",
       "      <td>385</td>\n",
       "      <td>126</td>\n",
       "      <td>2</td>\n",
       "      <td>0</td>\n",
       "      <td>2395</td>\n",
       "      <td>04</td>\n",
       "      <td>2021</td>\n",
       "    </tr>\n",
       "    <tr>\n",
       "      <th>4</th>\n",
       "      <td>1813</td>\n",
       "      <td>358</td>\n",
       "      <td>87</td>\n",
       "      <td>4</td>\n",
       "      <td>0</td>\n",
       "      <td>2262</td>\n",
       "      <td>05</td>\n",
       "      <td>2021</td>\n",
       "    </tr>\n",
       "  </tbody>\n",
       "</table>\n",
       "</div>"
      ],
      "text/plain": [
       "   android  apple  windows  linux  unknown  toplam  ay   yıl\n",
       "0     1528    320      108      2        0    1958  01  2021\n",
       "1     1861    360       88      2        0    2311  02  2021\n",
       "2     2196    463      171      6        1    2837  03  2021\n",
       "3     1882    385      126      2        0    2395  04  2021\n",
       "4     1813    358       87      4        0    2262  05  2021"
      ]
     },
     "execution_count": 12,
     "metadata": {},
     "output_type": "execute_result"
    }
   ],
   "source": [
    "data.head()"
   ]
  },
  {
   "cell_type": "code",
   "execution_count": 13,
   "metadata": {},
   "outputs": [],
   "source": [
    "data.rename(columns={\"apple\" : \"ios\"}, inplace=True)"
   ]
  },
  {
   "cell_type": "code",
   "execution_count": 14,
   "metadata": {},
   "outputs": [],
   "source": [
    "data['Timestamp'] = pd.to_datetime(data['ay'] + '-' + data['yıl'].astype(str), format='%m-%Y')"
   ]
  },
  {
   "cell_type": "code",
   "execution_count": 15,
   "metadata": {},
   "outputs": [],
   "source": [
    "data= data.drop(columns=\"ay\", axis=0)\n",
    "data= data.drop(columns=\"yıl\", axis=0)"
   ]
  },
  {
   "cell_type": "code",
   "execution_count": 16,
   "metadata": {},
   "outputs": [
    {
     "data": {
      "text/html": [
       "<div>\n",
       "<style scoped>\n",
       "    .dataframe tbody tr th:only-of-type {\n",
       "        vertical-align: middle;\n",
       "    }\n",
       "\n",
       "    .dataframe tbody tr th {\n",
       "        vertical-align: top;\n",
       "    }\n",
       "\n",
       "    .dataframe thead th {\n",
       "        text-align: right;\n",
       "    }\n",
       "</style>\n",
       "<table border=\"1\" class=\"dataframe\">\n",
       "  <thead>\n",
       "    <tr style=\"text-align: right;\">\n",
       "      <th></th>\n",
       "      <th>android</th>\n",
       "      <th>ios</th>\n",
       "      <th>windows</th>\n",
       "      <th>linux</th>\n",
       "      <th>unknown</th>\n",
       "      <th>toplam</th>\n",
       "      <th>Timestamp</th>\n",
       "    </tr>\n",
       "  </thead>\n",
       "  <tbody>\n",
       "    <tr>\n",
       "      <th>0</th>\n",
       "      <td>1528</td>\n",
       "      <td>320</td>\n",
       "      <td>108</td>\n",
       "      <td>2</td>\n",
       "      <td>0</td>\n",
       "      <td>1958</td>\n",
       "      <td>2021-01-01</td>\n",
       "    </tr>\n",
       "    <tr>\n",
       "      <th>1</th>\n",
       "      <td>1861</td>\n",
       "      <td>360</td>\n",
       "      <td>88</td>\n",
       "      <td>2</td>\n",
       "      <td>0</td>\n",
       "      <td>2311</td>\n",
       "      <td>2021-02-01</td>\n",
       "    </tr>\n",
       "    <tr>\n",
       "      <th>2</th>\n",
       "      <td>2196</td>\n",
       "      <td>463</td>\n",
       "      <td>171</td>\n",
       "      <td>6</td>\n",
       "      <td>1</td>\n",
       "      <td>2837</td>\n",
       "      <td>2021-03-01</td>\n",
       "    </tr>\n",
       "    <tr>\n",
       "      <th>3</th>\n",
       "      <td>1882</td>\n",
       "      <td>385</td>\n",
       "      <td>126</td>\n",
       "      <td>2</td>\n",
       "      <td>0</td>\n",
       "      <td>2395</td>\n",
       "      <td>2021-04-01</td>\n",
       "    </tr>\n",
       "    <tr>\n",
       "      <th>4</th>\n",
       "      <td>1813</td>\n",
       "      <td>358</td>\n",
       "      <td>87</td>\n",
       "      <td>4</td>\n",
       "      <td>0</td>\n",
       "      <td>2262</td>\n",
       "      <td>2021-05-01</td>\n",
       "    </tr>\n",
       "  </tbody>\n",
       "</table>\n",
       "</div>"
      ],
      "text/plain": [
       "   android  ios  windows  linux  unknown  toplam  Timestamp\n",
       "0     1528  320      108      2        0    1958 2021-01-01\n",
       "1     1861  360       88      2        0    2311 2021-02-01\n",
       "2     2196  463      171      6        1    2837 2021-03-01\n",
       "3     1882  385      126      2        0    2395 2021-04-01\n",
       "4     1813  358       87      4        0    2262 2021-05-01"
      ]
     },
     "execution_count": 16,
     "metadata": {},
     "output_type": "execute_result"
    }
   ],
   "source": [
    "data.head()"
   ]
  },
  {
   "cell_type": "code",
   "execution_count": 17,
   "metadata": {},
   "outputs": [
    {
     "name": "stdout",
     "output_type": "stream",
     "text": [
      "toplam 0. index için doğru.\n",
      "toplam 1. index için doğru.\n",
      "toplam 2. index için doğru.\n",
      "toplam 3. index için doğru.\n",
      "toplam 4. index için doğru.\n",
      "toplam 5. index için doğru.\n",
      "toplam 6. index için doğru.\n",
      "toplam 7. index için doğru.\n",
      "toplam 8. index için doğru.\n",
      "toplam 9. index için doğru.\n",
      "toplam 10. index için doğru.\n",
      "toplam 11. index için doğru.\n",
      "toplam 12. index için doğru.\n",
      "toplam 13. index için doğru.\n"
     ]
    }
   ],
   "source": [
    "for index, row in data.iterrows():\n",
    "    toplam_kontrol = row['android'] + row['ios'] + row['windows'] + row['linux'] + row['unknown']\n",
    "    if toplam_kontrol != row['toplam']:\n",
    "        print(f'toplam {index}. index için yanlış.')\n",
    "    else:\n",
    "        print(f'toplam {index}. index için doğru.')"
   ]
  },
  {
   "cell_type": "code",
   "execution_count": 18,
   "metadata": {},
   "outputs": [
    {
     "data": {
      "text/html": [
       "<div>\n",
       "<style scoped>\n",
       "    .dataframe tbody tr th:only-of-type {\n",
       "        vertical-align: middle;\n",
       "    }\n",
       "\n",
       "    .dataframe tbody tr th {\n",
       "        vertical-align: top;\n",
       "    }\n",
       "\n",
       "    .dataframe thead th {\n",
       "        text-align: right;\n",
       "    }\n",
       "</style>\n",
       "<table border=\"1\" class=\"dataframe\">\n",
       "  <thead>\n",
       "    <tr style=\"text-align: right;\">\n",
       "      <th></th>\n",
       "      <th>android</th>\n",
       "      <th>ios</th>\n",
       "      <th>windows</th>\n",
       "      <th>linux</th>\n",
       "      <th>unknown</th>\n",
       "      <th>toplam</th>\n",
       "      <th>Timestamp</th>\n",
       "    </tr>\n",
       "  </thead>\n",
       "  <tbody>\n",
       "    <tr>\n",
       "      <th>0</th>\n",
       "      <td>1528</td>\n",
       "      <td>320</td>\n",
       "      <td>108</td>\n",
       "      <td>2</td>\n",
       "      <td>0</td>\n",
       "      <td>1958</td>\n",
       "      <td>2021-01-01</td>\n",
       "    </tr>\n",
       "    <tr>\n",
       "      <th>1</th>\n",
       "      <td>1861</td>\n",
       "      <td>360</td>\n",
       "      <td>88</td>\n",
       "      <td>2</td>\n",
       "      <td>0</td>\n",
       "      <td>2311</td>\n",
       "      <td>2021-02-01</td>\n",
       "    </tr>\n",
       "    <tr>\n",
       "      <th>2</th>\n",
       "      <td>2196</td>\n",
       "      <td>463</td>\n",
       "      <td>171</td>\n",
       "      <td>6</td>\n",
       "      <td>1</td>\n",
       "      <td>2837</td>\n",
       "      <td>2021-03-01</td>\n",
       "    </tr>\n",
       "    <tr>\n",
       "      <th>3</th>\n",
       "      <td>1882</td>\n",
       "      <td>385</td>\n",
       "      <td>126</td>\n",
       "      <td>2</td>\n",
       "      <td>0</td>\n",
       "      <td>2395</td>\n",
       "      <td>2021-04-01</td>\n",
       "    </tr>\n",
       "    <tr>\n",
       "      <th>4</th>\n",
       "      <td>1813</td>\n",
       "      <td>358</td>\n",
       "      <td>87</td>\n",
       "      <td>4</td>\n",
       "      <td>0</td>\n",
       "      <td>2262</td>\n",
       "      <td>2021-05-01</td>\n",
       "    </tr>\n",
       "  </tbody>\n",
       "</table>\n",
       "</div>"
      ],
      "text/plain": [
       "   android  ios  windows  linux  unknown  toplam  Timestamp\n",
       "0     1528  320      108      2        0    1958 2021-01-01\n",
       "1     1861  360       88      2        0    2311 2021-02-01\n",
       "2     2196  463      171      6        1    2837 2021-03-01\n",
       "3     1882  385      126      2        0    2395 2021-04-01\n",
       "4     1813  358       87      4        0    2262 2021-05-01"
      ]
     },
     "execution_count": 18,
     "metadata": {},
     "output_type": "execute_result"
    }
   ],
   "source": [
    "data.head()"
   ]
  },
  {
   "cell_type": "code",
   "execution_count": 19,
   "metadata": {},
   "outputs": [],
   "source": [
    "data.to_csv(\"/Users/o/Desktop/acik-veri-calismalari/ucretsiz-wifi-kullanim-sayilari/ucretsiz-wifi-kullanim-sayilari.csv\")\n",
    "data.to_excel(\"/Users/o/Desktop/acik-veri-calismalari/ucretsiz-wifi-kullanim-sayilari/ucretsiz-wifi-kullanim-sayilari.xlsx\")\n"
   ]
  },
  {
   "cell_type": "code",
   "execution_count": null,
   "metadata": {},
   "outputs": [],
   "source": []
  }
 ],
 "metadata": {
  "kernelspec": {
   "display_name": "base",
   "language": "python",
   "name": "python3"
  },
  "language_info": {
   "codemirror_mode": {
    "name": "ipython",
    "version": 3
   },
   "file_extension": ".py",
   "mimetype": "text/x-python",
   "name": "python",
   "nbconvert_exporter": "python",
   "pygments_lexer": "ipython3",
   "version": "3.11.3"
  },
  "orig_nbformat": 4
 },
 "nbformat": 4,
 "nbformat_minor": 2
}
