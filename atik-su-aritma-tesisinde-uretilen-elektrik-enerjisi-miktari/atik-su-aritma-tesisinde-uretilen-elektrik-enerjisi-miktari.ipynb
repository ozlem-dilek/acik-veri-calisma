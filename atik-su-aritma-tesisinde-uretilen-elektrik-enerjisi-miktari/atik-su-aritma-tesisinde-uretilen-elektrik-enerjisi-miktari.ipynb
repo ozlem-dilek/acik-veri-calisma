{
 "cells": [
  {
   "cell_type": "code",
   "execution_count": 551,
   "metadata": {},
   "outputs": [],
   "source": [
    "import pandas as pd\n",
    "import numpy as np"
   ]
  },
  {
   "cell_type": "code",
   "execution_count": 552,
   "metadata": {},
   "outputs": [],
   "source": [
    "data = pd.read_csv(\"atik-su-aritma-tesisinde-uretilen-elektrik-enerjisi-miktari-eski.csv\")"
   ]
  },
  {
   "cell_type": "code",
   "execution_count": 553,
   "metadata": {},
   "outputs": [
    {
     "name": "stdout",
     "output_type": "stream",
     "text": [
      "<class 'pandas.core.frame.DataFrame'>\n",
      "RangeIndex: 41 entries, 0 to 40\n",
      "Data columns (total 2 columns):\n",
      " #   Column       Non-Null Count  Dtype  \n",
      "---  ------       --------------  -----  \n",
      " 0   tarih        41 non-null     object \n",
      " 1   deger_(kwh)  41 non-null     float64\n",
      "dtypes: float64(1), object(1)\n",
      "memory usage: 788.0+ bytes\n"
     ]
    }
   ],
   "source": [
    "data.info()"
   ]
  },
  {
   "cell_type": "code",
   "execution_count": 554,
   "metadata": {},
   "outputs": [
    {
     "data": {
      "text/html": [
       "<div>\n",
       "<style scoped>\n",
       "    .dataframe tbody tr th:only-of-type {\n",
       "        vertical-align: middle;\n",
       "    }\n",
       "\n",
       "    .dataframe tbody tr th {\n",
       "        vertical-align: top;\n",
       "    }\n",
       "\n",
       "    .dataframe thead th {\n",
       "        text-align: right;\n",
       "    }\n",
       "</style>\n",
       "<table border=\"1\" class=\"dataframe\">\n",
       "  <thead>\n",
       "    <tr style=\"text-align: right;\">\n",
       "      <th></th>\n",
       "      <th>tarih</th>\n",
       "      <th>deger_(kwh)</th>\n",
       "    </tr>\n",
       "  </thead>\n",
       "  <tbody>\n",
       "    <tr>\n",
       "      <th>0</th>\n",
       "      <td>2015-01-31</td>\n",
       "      <td>611232.00</td>\n",
       "    </tr>\n",
       "    <tr>\n",
       "      <th>1</th>\n",
       "      <td>2015-02-28</td>\n",
       "      <td>615826.00</td>\n",
       "    </tr>\n",
       "    <tr>\n",
       "      <th>2</th>\n",
       "      <td>2015-03-31</td>\n",
       "      <td>957527.00</td>\n",
       "    </tr>\n",
       "    <tr>\n",
       "      <th>3</th>\n",
       "      <td>2015-04-30</td>\n",
       "      <td>920036.54</td>\n",
       "    </tr>\n",
       "    <tr>\n",
       "      <th>4</th>\n",
       "      <td>2015-05-31</td>\n",
       "      <td>928773.29</td>\n",
       "    </tr>\n",
       "  </tbody>\n",
       "</table>\n",
       "</div>"
      ],
      "text/plain": [
       "        tarih  deger_(kwh)\n",
       "0  2015-01-31    611232.00\n",
       "1  2015-02-28    615826.00\n",
       "2  2015-03-31    957527.00\n",
       "3  2015-04-30    920036.54\n",
       "4  2015-05-31    928773.29"
      ]
     },
     "execution_count": 554,
     "metadata": {},
     "output_type": "execute_result"
    }
   ],
   "source": [
    "data.head()"
   ]
  },
  {
   "cell_type": "code",
   "execution_count": 555,
   "metadata": {},
   "outputs": [],
   "source": [
    "data.rename(columns={\"tarih\" : \"bitis_tarihi\"}, inplace=True)"
   ]
  },
  {
   "cell_type": "code",
   "execution_count": 556,
   "metadata": {},
   "outputs": [],
   "source": [
    "data[\"baslangic_tarihi\"] = data[\"bitis_tarihi\"].copy()"
   ]
  },
  {
   "cell_type": "code",
   "execution_count": 557,
   "metadata": {},
   "outputs": [],
   "source": [
    "yeni_sutunlar = [\"baslangic_tarihi\", \"bitis_tarihi\", \"deger_(kwh)\"]"
   ]
  },
  {
   "cell_type": "code",
   "execution_count": 558,
   "metadata": {},
   "outputs": [],
   "source": [
    "data = data[yeni_sutunlar]"
   ]
  },
  {
   "cell_type": "code",
   "execution_count": 559,
   "metadata": {},
   "outputs": [],
   "source": [
    "data[\"baslangic_tarihi\"] = data[\"baslangic_tarihi\"].apply(lambda x: x[:-2] + \"01\")"
   ]
  },
  {
   "cell_type": "code",
   "execution_count": 560,
   "metadata": {},
   "outputs": [],
   "source": [
    "data[\"baslangic_tarihi\"] = pd.to_datetime(data[\"baslangic_tarihi\"], format= \"%Y-%m-%d\")\n",
    "data[\"bitis_tarihi\"] = pd.to_datetime(data[\"bitis_tarihi\"], format= \"%Y-%m-%d\")"
   ]
  },
  {
   "cell_type": "code",
   "execution_count": 561,
   "metadata": {},
   "outputs": [
    {
     "data": {
      "text/plain": [
       "pandas._libs.tslibs.timestamps.Timestamp"
      ]
     },
     "execution_count": 561,
     "metadata": {},
     "output_type": "execute_result"
    }
   ],
   "source": [
    "type(data[\"bitis_tarihi\"][0])\n",
    "type(data[\"baslangic_tarihi\"][0])"
   ]
  },
  {
   "cell_type": "code",
   "execution_count": 562,
   "metadata": {},
   "outputs": [],
   "source": [
    "data[\"deger_(kwh)\"] = data[\"deger_(kwh)\"].astype(str)"
   ]
  },
  {
   "cell_type": "code",
   "execution_count": 563,
   "metadata": {},
   "outputs": [
    {
     "data": {
      "text/plain": [
       "0      611232.0\n",
       "1      615826.0\n",
       "2      957527.0\n",
       "3     920036.54\n",
       "4     928773.29\n",
       "5     738623.36\n",
       "6     803861.06\n",
       "7     948642.02\n",
       "8     755666.52\n",
       "9      752889.0\n",
       "10     795276.7\n",
       "11    674220.53\n",
       "12    519189.75\n",
       "13    471734.36\n",
       "14    663517.23\n",
       "15    663109.68\n",
       "16    693536.24\n",
       "17    597641.51\n",
       "18    550308.16\n",
       "19    474594.79\n",
       "20     738287.5\n",
       "21    6196131.0\n",
       "22    5447826.0\n",
       "23    8876367.0\n",
       "24     864165.0\n",
       "25     697659.0\n",
       "26     907365.0\n",
       "27     738304.0\n",
       "28     724670.0\n",
       "29     680726.0\n",
       "30     308717.0\n",
       "31     697879.4\n",
       "32     562325.5\n",
       "33     842588.1\n",
       "34     988507.8\n",
       "35    1133366.4\n",
       "36     582829.0\n",
       "37     387462.0\n",
       "38     361152.0\n",
       "39     308616.0\n",
       "40      68434.0\n",
       "Name: deger_(kwh), dtype: object"
      ]
     },
     "execution_count": 563,
     "metadata": {},
     "output_type": "execute_result"
    }
   ],
   "source": [
    "data[\"deger_(kwh)\"]"
   ]
  },
  {
   "cell_type": "code",
   "execution_count": 564,
   "metadata": {},
   "outputs": [
    {
     "name": "stderr",
     "output_type": "stream",
     "text": [
      "/var/folders/jh/d35s6brj6td3270jfy770tjc0000gn/T/ipykernel_17933/2229466554.py:3: SettingWithCopyWarning: \n",
      "A value is trying to be set on a copy of a slice from a DataFrame\n",
      "\n",
      "See the caveats in the documentation: https://pandas.pydata.org/pandas-docs/stable/user_guide/indexing.html#returning-a-view-versus-a-copy\n",
      "  data[\"deger_(kwh)\"][i] = int(data[\"deger_(kwh)\"][i][:-2])\n",
      "/var/folders/jh/d35s6brj6td3270jfy770tjc0000gn/T/ipykernel_17933/2229466554.py:5: SettingWithCopyWarning: \n",
      "A value is trying to be set on a copy of a slice from a DataFrame\n",
      "\n",
      "See the caveats in the documentation: https://pandas.pydata.org/pandas-docs/stable/user_guide/indexing.html#returning-a-view-versus-a-copy\n",
      "  data[\"deger_(kwh)\"][i]= float(data[\"deger_(kwh)\"][i])\n"
     ]
    }
   ],
   "source": [
    "for i  in range(0,41):\n",
    "    if data[\"deger_(kwh)\"][i].endswith(\".0\"):\n",
    "        data[\"deger_(kwh)\"][i] = int(data[\"deger_(kwh)\"][i][:-2])\n",
    "    else:\n",
    "        data[\"deger_(kwh)\"][i]= float(data[\"deger_(kwh)\"][i])"
   ]
  },
  {
   "cell_type": "code",
   "execution_count": 565,
   "metadata": {},
   "outputs": [
    {
     "data": {
      "text/plain": [
       "0        611232\n",
       "1        615826\n",
       "2        957527\n",
       "3     920036.54\n",
       "4     928773.29\n",
       "5     738623.36\n",
       "6     803861.06\n",
       "7     948642.02\n",
       "8     755666.52\n",
       "9        752889\n",
       "10     795276.7\n",
       "11    674220.53\n",
       "12    519189.75\n",
       "13    471734.36\n",
       "14    663517.23\n",
       "15    663109.68\n",
       "16    693536.24\n",
       "17    597641.51\n",
       "18    550308.16\n",
       "19    474594.79\n",
       "20     738287.5\n",
       "21      6196131\n",
       "22      5447826\n",
       "23      8876367\n",
       "24       864165\n",
       "25       697659\n",
       "26       907365\n",
       "27       738304\n",
       "28       724670\n",
       "29       680726\n",
       "30       308717\n",
       "31     697879.4\n",
       "32     562325.5\n",
       "33     842588.1\n",
       "34     988507.8\n",
       "35    1133366.4\n",
       "36       582829\n",
       "37       387462\n",
       "38       361152\n",
       "39       308616\n",
       "40        68434\n",
       "Name: deger_(kwh), dtype: object"
      ]
     },
     "execution_count": 565,
     "metadata": {},
     "output_type": "execute_result"
    }
   ],
   "source": [
    "data[\"deger_(kwh)\"]"
   ]
  },
  {
   "cell_type": "code",
   "execution_count": 566,
   "metadata": {},
   "outputs": [
    {
     "data": {
      "text/plain": [
       "int"
      ]
     },
     "execution_count": 566,
     "metadata": {},
     "output_type": "execute_result"
    }
   ],
   "source": [
    "type(data[\"deger_(kwh)\"][0])"
   ]
  },
  {
   "cell_type": "code",
   "execution_count": 567,
   "metadata": {},
   "outputs": [
    {
     "data": {
      "text/plain": [
       "float"
      ]
     },
     "execution_count": 567,
     "metadata": {},
     "output_type": "execute_result"
    }
   ],
   "source": [
    "type(data[\"deger_(kwh)\"][20])"
   ]
  },
  {
   "cell_type": "code",
   "execution_count": 568,
   "metadata": {},
   "outputs": [
    {
     "data": {
      "text/html": [
       "<div>\n",
       "<style scoped>\n",
       "    .dataframe tbody tr th:only-of-type {\n",
       "        vertical-align: middle;\n",
       "    }\n",
       "\n",
       "    .dataframe tbody tr th {\n",
       "        vertical-align: top;\n",
       "    }\n",
       "\n",
       "    .dataframe thead th {\n",
       "        text-align: right;\n",
       "    }\n",
       "</style>\n",
       "<table border=\"1\" class=\"dataframe\">\n",
       "  <thead>\n",
       "    <tr style=\"text-align: right;\">\n",
       "      <th></th>\n",
       "      <th>baslangic_tarihi</th>\n",
       "      <th>bitis_tarihi</th>\n",
       "      <th>deger_(kwh)</th>\n",
       "    </tr>\n",
       "  </thead>\n",
       "  <tbody>\n",
       "    <tr>\n",
       "      <th>0</th>\n",
       "      <td>2015-01-01</td>\n",
       "      <td>2015-01-31</td>\n",
       "      <td>611232</td>\n",
       "    </tr>\n",
       "    <tr>\n",
       "      <th>1</th>\n",
       "      <td>2015-02-01</td>\n",
       "      <td>2015-02-28</td>\n",
       "      <td>615826</td>\n",
       "    </tr>\n",
       "    <tr>\n",
       "      <th>2</th>\n",
       "      <td>2015-03-01</td>\n",
       "      <td>2015-03-31</td>\n",
       "      <td>957527</td>\n",
       "    </tr>\n",
       "    <tr>\n",
       "      <th>3</th>\n",
       "      <td>2015-04-01</td>\n",
       "      <td>2015-04-30</td>\n",
       "      <td>920036.54</td>\n",
       "    </tr>\n",
       "    <tr>\n",
       "      <th>4</th>\n",
       "      <td>2015-05-01</td>\n",
       "      <td>2015-05-31</td>\n",
       "      <td>928773.29</td>\n",
       "    </tr>\n",
       "    <tr>\n",
       "      <th>5</th>\n",
       "      <td>2015-06-01</td>\n",
       "      <td>2015-06-30</td>\n",
       "      <td>738623.36</td>\n",
       "    </tr>\n",
       "    <tr>\n",
       "      <th>6</th>\n",
       "      <td>2015-07-01</td>\n",
       "      <td>2015-07-31</td>\n",
       "      <td>803861.06</td>\n",
       "    </tr>\n",
       "    <tr>\n",
       "      <th>7</th>\n",
       "      <td>2015-08-01</td>\n",
       "      <td>2015-08-31</td>\n",
       "      <td>948642.02</td>\n",
       "    </tr>\n",
       "    <tr>\n",
       "      <th>8</th>\n",
       "      <td>2015-09-01</td>\n",
       "      <td>2015-09-30</td>\n",
       "      <td>755666.52</td>\n",
       "    </tr>\n",
       "    <tr>\n",
       "      <th>9</th>\n",
       "      <td>2015-10-01</td>\n",
       "      <td>2015-10-31</td>\n",
       "      <td>752889</td>\n",
       "    </tr>\n",
       "    <tr>\n",
       "      <th>10</th>\n",
       "      <td>2015-11-01</td>\n",
       "      <td>2015-11-30</td>\n",
       "      <td>795276.7</td>\n",
       "    </tr>\n",
       "    <tr>\n",
       "      <th>11</th>\n",
       "      <td>2015-12-01</td>\n",
       "      <td>2015-12-31</td>\n",
       "      <td>674220.53</td>\n",
       "    </tr>\n",
       "    <tr>\n",
       "      <th>12</th>\n",
       "      <td>2016-01-01</td>\n",
       "      <td>2016-01-31</td>\n",
       "      <td>519189.75</td>\n",
       "    </tr>\n",
       "    <tr>\n",
       "      <th>13</th>\n",
       "      <td>2016-02-01</td>\n",
       "      <td>2016-02-29</td>\n",
       "      <td>471734.36</td>\n",
       "    </tr>\n",
       "    <tr>\n",
       "      <th>14</th>\n",
       "      <td>2016-03-01</td>\n",
       "      <td>2016-03-31</td>\n",
       "      <td>663517.23</td>\n",
       "    </tr>\n",
       "    <tr>\n",
       "      <th>15</th>\n",
       "      <td>2016-04-01</td>\n",
       "      <td>2016-04-30</td>\n",
       "      <td>663109.68</td>\n",
       "    </tr>\n",
       "    <tr>\n",
       "      <th>16</th>\n",
       "      <td>2016-05-01</td>\n",
       "      <td>2016-05-31</td>\n",
       "      <td>693536.24</td>\n",
       "    </tr>\n",
       "    <tr>\n",
       "      <th>17</th>\n",
       "      <td>2016-06-01</td>\n",
       "      <td>2016-06-30</td>\n",
       "      <td>597641.51</td>\n",
       "    </tr>\n",
       "    <tr>\n",
       "      <th>18</th>\n",
       "      <td>2016-07-01</td>\n",
       "      <td>2016-07-31</td>\n",
       "      <td>550308.16</td>\n",
       "    </tr>\n",
       "    <tr>\n",
       "      <th>19</th>\n",
       "      <td>2016-08-01</td>\n",
       "      <td>2016-08-31</td>\n",
       "      <td>474594.79</td>\n",
       "    </tr>\n",
       "    <tr>\n",
       "      <th>20</th>\n",
       "      <td>2016-09-01</td>\n",
       "      <td>2016-09-30</td>\n",
       "      <td>738287.5</td>\n",
       "    </tr>\n",
       "    <tr>\n",
       "      <th>21</th>\n",
       "      <td>2016-10-01</td>\n",
       "      <td>2016-10-31</td>\n",
       "      <td>6196131</td>\n",
       "    </tr>\n",
       "    <tr>\n",
       "      <th>22</th>\n",
       "      <td>2016-11-01</td>\n",
       "      <td>2016-11-30</td>\n",
       "      <td>5447826</td>\n",
       "    </tr>\n",
       "    <tr>\n",
       "      <th>23</th>\n",
       "      <td>2016-12-01</td>\n",
       "      <td>2016-12-31</td>\n",
       "      <td>8876367</td>\n",
       "    </tr>\n",
       "    <tr>\n",
       "      <th>24</th>\n",
       "      <td>2017-01-01</td>\n",
       "      <td>2017-01-31</td>\n",
       "      <td>864165</td>\n",
       "    </tr>\n",
       "    <tr>\n",
       "      <th>25</th>\n",
       "      <td>2017-02-01</td>\n",
       "      <td>2017-02-28</td>\n",
       "      <td>697659</td>\n",
       "    </tr>\n",
       "    <tr>\n",
       "      <th>26</th>\n",
       "      <td>2017-03-01</td>\n",
       "      <td>2017-03-31</td>\n",
       "      <td>907365</td>\n",
       "    </tr>\n",
       "    <tr>\n",
       "      <th>27</th>\n",
       "      <td>2017-04-01</td>\n",
       "      <td>2017-04-30</td>\n",
       "      <td>738304</td>\n",
       "    </tr>\n",
       "    <tr>\n",
       "      <th>28</th>\n",
       "      <td>2017-05-01</td>\n",
       "      <td>2017-05-31</td>\n",
       "      <td>724670</td>\n",
       "    </tr>\n",
       "    <tr>\n",
       "      <th>29</th>\n",
       "      <td>2017-06-01</td>\n",
       "      <td>2017-06-30</td>\n",
       "      <td>680726</td>\n",
       "    </tr>\n",
       "    <tr>\n",
       "      <th>30</th>\n",
       "      <td>2017-07-01</td>\n",
       "      <td>2017-07-31</td>\n",
       "      <td>308717</td>\n",
       "    </tr>\n",
       "    <tr>\n",
       "      <th>31</th>\n",
       "      <td>2017-08-01</td>\n",
       "      <td>2017-08-31</td>\n",
       "      <td>697879.4</td>\n",
       "    </tr>\n",
       "    <tr>\n",
       "      <th>32</th>\n",
       "      <td>2017-09-01</td>\n",
       "      <td>2017-09-30</td>\n",
       "      <td>562325.5</td>\n",
       "    </tr>\n",
       "    <tr>\n",
       "      <th>33</th>\n",
       "      <td>2017-10-01</td>\n",
       "      <td>2017-10-31</td>\n",
       "      <td>842588.1</td>\n",
       "    </tr>\n",
       "    <tr>\n",
       "      <th>34</th>\n",
       "      <td>2017-11-01</td>\n",
       "      <td>2017-11-30</td>\n",
       "      <td>988507.8</td>\n",
       "    </tr>\n",
       "    <tr>\n",
       "      <th>35</th>\n",
       "      <td>2017-12-01</td>\n",
       "      <td>2017-12-31</td>\n",
       "      <td>1133366.4</td>\n",
       "    </tr>\n",
       "    <tr>\n",
       "      <th>36</th>\n",
       "      <td>2018-01-01</td>\n",
       "      <td>2018-01-31</td>\n",
       "      <td>582829</td>\n",
       "    </tr>\n",
       "    <tr>\n",
       "      <th>37</th>\n",
       "      <td>2018-02-01</td>\n",
       "      <td>2018-02-28</td>\n",
       "      <td>387462</td>\n",
       "    </tr>\n",
       "    <tr>\n",
       "      <th>38</th>\n",
       "      <td>2018-03-01</td>\n",
       "      <td>2018-03-31</td>\n",
       "      <td>361152</td>\n",
       "    </tr>\n",
       "    <tr>\n",
       "      <th>39</th>\n",
       "      <td>2018-04-01</td>\n",
       "      <td>2018-04-30</td>\n",
       "      <td>308616</td>\n",
       "    </tr>\n",
       "    <tr>\n",
       "      <th>40</th>\n",
       "      <td>2018-05-01</td>\n",
       "      <td>2018-05-31</td>\n",
       "      <td>68434</td>\n",
       "    </tr>\n",
       "  </tbody>\n",
       "</table>\n",
       "</div>"
      ],
      "text/plain": [
       "   baslangic_tarihi bitis_tarihi deger_(kwh)\n",
       "0        2015-01-01   2015-01-31      611232\n",
       "1        2015-02-01   2015-02-28      615826\n",
       "2        2015-03-01   2015-03-31      957527\n",
       "3        2015-04-01   2015-04-30   920036.54\n",
       "4        2015-05-01   2015-05-31   928773.29\n",
       "5        2015-06-01   2015-06-30   738623.36\n",
       "6        2015-07-01   2015-07-31   803861.06\n",
       "7        2015-08-01   2015-08-31   948642.02\n",
       "8        2015-09-01   2015-09-30   755666.52\n",
       "9        2015-10-01   2015-10-31      752889\n",
       "10       2015-11-01   2015-11-30    795276.7\n",
       "11       2015-12-01   2015-12-31   674220.53\n",
       "12       2016-01-01   2016-01-31   519189.75\n",
       "13       2016-02-01   2016-02-29   471734.36\n",
       "14       2016-03-01   2016-03-31   663517.23\n",
       "15       2016-04-01   2016-04-30   663109.68\n",
       "16       2016-05-01   2016-05-31   693536.24\n",
       "17       2016-06-01   2016-06-30   597641.51\n",
       "18       2016-07-01   2016-07-31   550308.16\n",
       "19       2016-08-01   2016-08-31   474594.79\n",
       "20       2016-09-01   2016-09-30    738287.5\n",
       "21       2016-10-01   2016-10-31     6196131\n",
       "22       2016-11-01   2016-11-30     5447826\n",
       "23       2016-12-01   2016-12-31     8876367\n",
       "24       2017-01-01   2017-01-31      864165\n",
       "25       2017-02-01   2017-02-28      697659\n",
       "26       2017-03-01   2017-03-31      907365\n",
       "27       2017-04-01   2017-04-30      738304\n",
       "28       2017-05-01   2017-05-31      724670\n",
       "29       2017-06-01   2017-06-30      680726\n",
       "30       2017-07-01   2017-07-31      308717\n",
       "31       2017-08-01   2017-08-31    697879.4\n",
       "32       2017-09-01   2017-09-30    562325.5\n",
       "33       2017-10-01   2017-10-31    842588.1\n",
       "34       2017-11-01   2017-11-30    988507.8\n",
       "35       2017-12-01   2017-12-31   1133366.4\n",
       "36       2018-01-01   2018-01-31      582829\n",
       "37       2018-02-01   2018-02-28      387462\n",
       "38       2018-03-01   2018-03-31      361152\n",
       "39       2018-04-01   2018-04-30      308616\n",
       "40       2018-05-01   2018-05-31       68434"
      ]
     },
     "execution_count": 568,
     "metadata": {},
     "output_type": "execute_result"
    }
   ],
   "source": [
    "data"
   ]
  },
  {
   "cell_type": "code",
   "execution_count": 569,
   "metadata": {},
   "outputs": [],
   "source": [
    "data.to_csv(\"/Users/o/Desktop/acik-veri-calismalari/atik-su-aritma-tesisinde-uretilen-elektrik-enerjisi-miktari/atik-su-aritma-tesisinde-uretilen-elektrik-enerjisi-miktari.csv\", index=False, header=True)\n",
    "data.to_excel(\"/Users/o/Desktop/acik-veri-calismalari/atik-su-aritma-tesisinde-uretilen-elektrik-enerjisi-miktari/atik-su-aritma-tesisinde-uretilen-elektrik-enerjisi-miktari.xlsx\", index=False, header=True)"
   ]
  }
 ],
 "metadata": {
  "kernelspec": {
   "display_name": "base",
   "language": "python",
   "name": "python3"
  },
  "language_info": {
   "codemirror_mode": {
    "name": "ipython",
    "version": 3
   },
   "file_extension": ".py",
   "mimetype": "text/x-python",
   "name": "python",
   "nbconvert_exporter": "python",
   "pygments_lexer": "ipython3",
   "version": "3.11.3"
  },
  "orig_nbformat": 4
 },
 "nbformat": 4,
 "nbformat_minor": 2
}
